{
 "cells": [
  {
   "cell_type": "code",
   "execution_count": 1,
   "id": "89ac0859",
   "metadata": {},
   "outputs": [],
   "source": [
    "import pandas as pd\n",
    "import numpy as np\n",
    "import matplotlib.pyplot as plt\n",
    "\n",
    "import tensorflow as tf\n",
    "from tensorflow.keras import layers\n",
    "from tensorflow.keras.models import Model\n",
    "from tensorflow.keras.optimizers import Adam\n",
    "from tensorflow.keras.layers import Activation,BatchNormalization,Input,Embedding,Dot,Dense,Flatten\n",
    "from tensorflow.keras.callbacks import ModelCheckpoint,LearningRateScheduler,TensorBoard,EarlyStopping\n",
    "\n",
    "from wordcloud import WordCloud\n",
    "%matplotlib inline"
   ]
  },
  {
   "cell_type": "markdown",
   "id": "9e96c3e4",
   "metadata": {},
   "source": [
    "### Animelist.csv "
   ]
  },
  {
   "cell_type": "code",
   "execution_count": 2,
   "id": "c85e35c1",
   "metadata": {},
   "outputs": [],
   "source": [
    "import os\n",
    "INPUT_DIR = os.path.join(\"..\",\"artifacts\",\"raw\")"
   ]
  },
  {
   "cell_type": "code",
   "execution_count": 3,
   "id": "b1217d7b",
   "metadata": {},
   "outputs": [],
   "source": [
    "rating_df =pd.read_csv(INPUT_DIR+\"/animelist.csv\",low_memory=True,usecols=[\"user_id\",\"anime_id\",\"rating\"])"
   ]
  },
  {
   "cell_type": "code",
   "execution_count": 4,
   "id": "559c5a8e",
   "metadata": {},
   "outputs": [
    {
     "data": {
      "text/html": [
       "<div>\n",
       "<style scoped>\n",
       "    .dataframe tbody tr th:only-of-type {\n",
       "        vertical-align: middle;\n",
       "    }\n",
       "\n",
       "    .dataframe tbody tr th {\n",
       "        vertical-align: top;\n",
       "    }\n",
       "\n",
       "    .dataframe thead th {\n",
       "        text-align: right;\n",
       "    }\n",
       "</style>\n",
       "<table border=\"1\" class=\"dataframe\">\n",
       "  <thead>\n",
       "    <tr style=\"text-align: right;\">\n",
       "      <th></th>\n",
       "      <th>user_id</th>\n",
       "      <th>anime_id</th>\n",
       "      <th>rating</th>\n",
       "    </tr>\n",
       "  </thead>\n",
       "  <tbody>\n",
       "    <tr>\n",
       "      <th>0</th>\n",
       "      <td>0</td>\n",
       "      <td>67</td>\n",
       "      <td>9</td>\n",
       "    </tr>\n",
       "    <tr>\n",
       "      <th>1</th>\n",
       "      <td>0</td>\n",
       "      <td>6702</td>\n",
       "      <td>7</td>\n",
       "    </tr>\n",
       "    <tr>\n",
       "      <th>2</th>\n",
       "      <td>0</td>\n",
       "      <td>242</td>\n",
       "      <td>10</td>\n",
       "    </tr>\n",
       "    <tr>\n",
       "      <th>3</th>\n",
       "      <td>0</td>\n",
       "      <td>4898</td>\n",
       "      <td>0</td>\n",
       "    </tr>\n",
       "    <tr>\n",
       "      <th>4</th>\n",
       "      <td>0</td>\n",
       "      <td>21</td>\n",
       "      <td>10</td>\n",
       "    </tr>\n",
       "  </tbody>\n",
       "</table>\n",
       "</div>"
      ],
      "text/plain": [
       "   user_id  anime_id  rating\n",
       "0        0        67       9\n",
       "1        0      6702       7\n",
       "2        0       242      10\n",
       "3        0      4898       0\n",
       "4        0        21      10"
      ]
     },
     "execution_count": 4,
     "metadata": {},
     "output_type": "execute_result"
    }
   ],
   "source": [
    "rating_df.head()"
   ]
  },
  {
   "cell_type": "code",
   "execution_count": 5,
   "id": "36e7f47d",
   "metadata": {},
   "outputs": [
    {
     "data": {
      "text/plain": [
       "5000000"
      ]
     },
     "execution_count": 5,
     "metadata": {},
     "output_type": "execute_result"
    }
   ],
   "source": [
    "len(rating_df)"
   ]
  },
  {
   "cell_type": "markdown",
   "id": "a5d5b253",
   "metadata": {},
   "source": [
    "### Data Processing"
   ]
  },
  {
   "cell_type": "code",
   "execution_count": 6,
   "id": "d710f050",
   "metadata": {},
   "outputs": [],
   "source": [
    "n_ratings = rating_df['user_id'].value_counts()\n",
    "rating_df = rating_df[rating_df[\"user_id\"].isin(n_ratings[n_ratings>=400].index)].copy()"
   ]
  },
  {
   "cell_type": "code",
   "execution_count": 7,
   "id": "c1de0d25",
   "metadata": {},
   "outputs": [
    {
     "data": {
      "text/plain": [
       "3246641"
      ]
     },
     "execution_count": 7,
     "metadata": {},
     "output_type": "execute_result"
    }
   ],
   "source": [
    "len(rating_df)"
   ]
  },
  {
   "cell_type": "code",
   "execution_count": 8,
   "id": "9e62e2a1",
   "metadata": {},
   "outputs": [],
   "source": [
    "min_rating = min(rating_df['rating'])\n",
    "max_rating = max(rating_df['rating'])"
   ]
  },
  {
   "cell_type": "code",
   "execution_count": 9,
   "id": "25ac70e0",
   "metadata": {},
   "outputs": [
    {
     "data": {
      "text/plain": [
       "(0, 10)"
      ]
     },
     "execution_count": 9,
     "metadata": {},
     "output_type": "execute_result"
    }
   ],
   "source": [
    "min_rating,max_rating"
   ]
  },
  {
   "cell_type": "code",
   "execution_count": 10,
   "id": "62abd235",
   "metadata": {},
   "outputs": [
    {
     "data": {
      "text/plain": [
       "np.float64(4.122732695114736)"
      ]
     },
     "execution_count": 10,
     "metadata": {},
     "output_type": "execute_result"
    }
   ],
   "source": [
    "avg_rating =np.mean(rating_df['rating'])\n",
    "avg_rating"
   ]
  },
  {
   "cell_type": "code",
   "execution_count": 11,
   "id": "4a26b01a",
   "metadata": {},
   "outputs": [],
   "source": [
    "### Min Max Scaling\n",
    "rating_df['rating'] = rating_df[\"rating\"].apply(lambda x:((x-min_rating)/max_rating-min_rating)).values.astype(np.float64)"
   ]
  },
  {
   "cell_type": "code",
   "execution_count": 12,
   "id": "5fa0b9b9",
   "metadata": {},
   "outputs": [
    {
     "data": {
      "text/plain": [
       "np.float64(1.0)"
      ]
     },
     "execution_count": 12,
     "metadata": {},
     "output_type": "execute_result"
    }
   ],
   "source": [
    "np.max(rating_df['rating'])"
   ]
  },
  {
   "cell_type": "code",
   "execution_count": 13,
   "id": "db673f02",
   "metadata": {},
   "outputs": [
    {
     "data": {
      "text/plain": [
       "np.int64(0)"
      ]
     },
     "execution_count": 13,
     "metadata": {},
     "output_type": "execute_result"
    }
   ],
   "source": [
    "rating_df.duplicated().sum()"
   ]
  },
  {
   "cell_type": "code",
   "execution_count": 14,
   "id": "48ae9e56",
   "metadata": {},
   "outputs": [
    {
     "data": {
      "text/plain": [
       "user_id     0\n",
       "anime_id    0\n",
       "rating      0\n",
       "dtype: int64"
      ]
     },
     "execution_count": 14,
     "metadata": {},
     "output_type": "execute_result"
    }
   ],
   "source": [
    "rating_df.isnull().sum()"
   ]
  },
  {
   "cell_type": "code",
   "execution_count": 15,
   "id": "5f7f3846",
   "metadata": {},
   "outputs": [],
   "source": [
    "user_ids = rating_df['user_id'].unique().tolist()\n",
    "### Enocde users making the user_id -> index\n",
    "user2user_encoded= {x:i for i, x in enumerate(user_ids)}\n",
    "user2user_decoded ={i:x for i,x in enumerate(user_ids)}\n",
    "rating_df[\"user\"] = rating_df['user_id'].map(user2user_encoded)"
   ]
  },
  {
   "cell_type": "code",
   "execution_count": 16,
   "id": "bc3c65d8",
   "metadata": {},
   "outputs": [
    {
     "data": {
      "text/plain": [
       "4203"
      ]
     },
     "execution_count": 16,
     "metadata": {},
     "output_type": "execute_result"
    }
   ],
   "source": [
    "n_users = len(user2user_encoded)\n",
    "n_users"
   ]
  },
  {
   "cell_type": "code",
   "execution_count": 17,
   "id": "efa1f79a",
   "metadata": {},
   "outputs": [
    {
     "data": {
      "text/html": [
       "<div>\n",
       "<style scoped>\n",
       "    .dataframe tbody tr th:only-of-type {\n",
       "        vertical-align: middle;\n",
       "    }\n",
       "\n",
       "    .dataframe tbody tr th {\n",
       "        vertical-align: top;\n",
       "    }\n",
       "\n",
       "    .dataframe thead th {\n",
       "        text-align: right;\n",
       "    }\n",
       "</style>\n",
       "<table border=\"1\" class=\"dataframe\">\n",
       "  <thead>\n",
       "    <tr style=\"text-align: right;\">\n",
       "      <th></th>\n",
       "      <th>user_id</th>\n",
       "      <th>anime_id</th>\n",
       "      <th>rating</th>\n",
       "      <th>user</th>\n",
       "    </tr>\n",
       "  </thead>\n",
       "  <tbody>\n",
       "    <tr>\n",
       "      <th>213</th>\n",
       "      <td>2</td>\n",
       "      <td>24833</td>\n",
       "      <td>0.0</td>\n",
       "      <td>0</td>\n",
       "    </tr>\n",
       "    <tr>\n",
       "      <th>214</th>\n",
       "      <td>2</td>\n",
       "      <td>235</td>\n",
       "      <td>1.0</td>\n",
       "      <td>0</td>\n",
       "    </tr>\n",
       "    <tr>\n",
       "      <th>215</th>\n",
       "      <td>2</td>\n",
       "      <td>36721</td>\n",
       "      <td>0.0</td>\n",
       "      <td>0</td>\n",
       "    </tr>\n",
       "    <tr>\n",
       "      <th>216</th>\n",
       "      <td>2</td>\n",
       "      <td>40956</td>\n",
       "      <td>0.0</td>\n",
       "      <td>0</td>\n",
       "    </tr>\n",
       "    <tr>\n",
       "      <th>217</th>\n",
       "      <td>2</td>\n",
       "      <td>31933</td>\n",
       "      <td>0.0</td>\n",
       "      <td>0</td>\n",
       "    </tr>\n",
       "  </tbody>\n",
       "</table>\n",
       "</div>"
      ],
      "text/plain": [
       "     user_id  anime_id  rating  user\n",
       "213        2     24833     0.0     0\n",
       "214        2       235     1.0     0\n",
       "215        2     36721     0.0     0\n",
       "216        2     40956     0.0     0\n",
       "217        2     31933     0.0     0"
      ]
     },
     "execution_count": 17,
     "metadata": {},
     "output_type": "execute_result"
    }
   ],
   "source": [
    "rating_df.head()"
   ]
  },
  {
   "cell_type": "code",
   "execution_count": 18,
   "id": "6b496c53",
   "metadata": {},
   "outputs": [],
   "source": [
    "# same maping for anime_id\n",
    "anime_rating = rating_df['anime_id'].unique().tolist()\n",
    "anime2anime_encoded = {x:i for i,x in enumerate(anime_rating)}\n",
    "anime2anime_decoded = {i:x for i,x in enumerate(anime_rating)}\n",
    "rating_df['anime'] = rating_df['anime_id'].map(anime2anime_encoded)"
   ]
  },
  {
   "cell_type": "code",
   "execution_count": 19,
   "id": "5897f178",
   "metadata": {},
   "outputs": [
    {
     "data": {
      "text/plain": [
       "17149"
      ]
     },
     "execution_count": 19,
     "metadata": {},
     "output_type": "execute_result"
    }
   ],
   "source": [
    "n_anime = len(anime2anime_encoded)\n",
    "n_anime"
   ]
  },
  {
   "cell_type": "code",
   "execution_count": 20,
   "id": "2364a16c",
   "metadata": {},
   "outputs": [
    {
     "data": {
      "text/html": [
       "<div>\n",
       "<style scoped>\n",
       "    .dataframe tbody tr th:only-of-type {\n",
       "        vertical-align: middle;\n",
       "    }\n",
       "\n",
       "    .dataframe tbody tr th {\n",
       "        vertical-align: top;\n",
       "    }\n",
       "\n",
       "    .dataframe thead th {\n",
       "        text-align: right;\n",
       "    }\n",
       "</style>\n",
       "<table border=\"1\" class=\"dataframe\">\n",
       "  <thead>\n",
       "    <tr style=\"text-align: right;\">\n",
       "      <th></th>\n",
       "      <th>user_id</th>\n",
       "      <th>anime_id</th>\n",
       "      <th>rating</th>\n",
       "      <th>user</th>\n",
       "      <th>anime</th>\n",
       "    </tr>\n",
       "  </thead>\n",
       "  <tbody>\n",
       "    <tr>\n",
       "      <th>213</th>\n",
       "      <td>2</td>\n",
       "      <td>24833</td>\n",
       "      <td>0.0</td>\n",
       "      <td>0</td>\n",
       "      <td>0</td>\n",
       "    </tr>\n",
       "    <tr>\n",
       "      <th>214</th>\n",
       "      <td>2</td>\n",
       "      <td>235</td>\n",
       "      <td>1.0</td>\n",
       "      <td>0</td>\n",
       "      <td>1</td>\n",
       "    </tr>\n",
       "  </tbody>\n",
       "</table>\n",
       "</div>"
      ],
      "text/plain": [
       "     user_id  anime_id  rating  user  anime\n",
       "213        2     24833     0.0     0      0\n",
       "214        2       235     1.0     0      1"
      ]
     },
     "execution_count": 20,
     "metadata": {},
     "output_type": "execute_result"
    }
   ],
   "source": [
    "rating_df.head(2)"
   ]
  },
  {
   "cell_type": "code",
   "execution_count": 21,
   "id": "23c0656c",
   "metadata": {},
   "outputs": [],
   "source": [
    "rating_df =rating_df.sample(frac=1,random_state=42).reset_index(drop=True) # reset_index :resests the index to from 0-N-1 else the index will also be randomized"
   ]
  },
  {
   "cell_type": "code",
   "execution_count": 22,
   "id": "8353018f",
   "metadata": {},
   "outputs": [],
   "source": [
    "X = rating_df[['user','anime']].values"
   ]
  },
  {
   "cell_type": "code",
   "execution_count": 23,
   "id": "085abbd0",
   "metadata": {},
   "outputs": [],
   "source": [
    "y= rating_df['rating'].values"
   ]
  },
  {
   "cell_type": "code",
   "execution_count": 24,
   "id": "fc1993ab",
   "metadata": {},
   "outputs": [
    {
     "data": {
      "text/plain": [
       "3246641"
      ]
     },
     "execution_count": 24,
     "metadata": {},
     "output_type": "execute_result"
    }
   ],
   "source": [
    "len(rating_df)"
   ]
  },
  {
   "cell_type": "code",
   "execution_count": 25,
   "id": "413b08b2",
   "metadata": {},
   "outputs": [],
   "source": [
    "test_size=1000\n",
    "train_size = rating_df.shape[0] - test_size"
   ]
  },
  {
   "cell_type": "code",
   "execution_count": 26,
   "id": "9344c6fa",
   "metadata": {},
   "outputs": [],
   "source": [
    "X_train,X_test,y_train,y_test = (\n",
    "    X[:train_size],\n",
    "    X[train_size:],\n",
    "    y[:train_size],\n",
    "    y[train_size:]\n",
    ")"
   ]
  },
  {
   "cell_type": "code",
   "execution_count": 27,
   "id": "26257aa9",
   "metadata": {},
   "outputs": [
    {
     "data": {
      "text/plain": [
       "(3245641, 1000)"
      ]
     },
     "execution_count": 27,
     "metadata": {},
     "output_type": "execute_result"
    }
   ],
   "source": [
    "len(X_train),len(X_test)"
   ]
  },
  {
   "cell_type": "code",
   "execution_count": 28,
   "id": "3916e9cd",
   "metadata": {},
   "outputs": [
    {
     "data": {
      "text/plain": [
       "(numpy.ndarray, numpy.ndarray)"
      ]
     },
     "execution_count": 28,
     "metadata": {},
     "output_type": "execute_result"
    }
   ],
   "source": [
    "type(X_train),type(y_test)"
   ]
  },
  {
   "cell_type": "code",
   "execution_count": 29,
   "id": "c2ee33a8",
   "metadata": {},
   "outputs": [
    {
     "data": {
      "text/plain": [
       "array([[3405,  688],\n",
       "       [4060, 1518],\n",
       "       [1213, 4963],\n",
       "       ...,\n",
       "       [ 560, 1461],\n",
       "       [3815, 1512],\n",
       "       [2122, 1153]])"
      ]
     },
     "execution_count": 29,
     "metadata": {},
     "output_type": "execute_result"
    }
   ],
   "source": [
    "X_train"
   ]
  },
  {
   "cell_type": "code",
   "execution_count": 30,
   "id": "1ac1b7d0",
   "metadata": {},
   "outputs": [
    {
     "data": {
      "text/plain": [
       "array([[1623, 1398],\n",
       "       [3761, 1577],\n",
       "       [2203, 7925],\n",
       "       ...,\n",
       "       [2881, 5028],\n",
       "       [3569,  175],\n",
       "       [2870, 1895]])"
      ]
     },
     "execution_count": 30,
     "metadata": {},
     "output_type": "execute_result"
    }
   ],
   "source": [
    "X_test"
   ]
  },
  {
   "cell_type": "code",
   "execution_count": 31,
   "id": "43f09e27",
   "metadata": {},
   "outputs": [],
   "source": [
    "X_train_array = [X_train[:,0],X_train[:,1]]\n",
    "X_test_array = [X_test[:,0],X_test[:,1]]"
   ]
  },
  {
   "cell_type": "code",
   "execution_count": 32,
   "id": "46da1397",
   "metadata": {},
   "outputs": [
    {
     "data": {
      "text/plain": [
       "list"
      ]
     },
     "execution_count": 32,
     "metadata": {},
     "output_type": "execute_result"
    }
   ],
   "source": [
    "type(X_test_array)"
   ]
  },
  {
   "cell_type": "code",
   "execution_count": 33,
   "id": "512ad117",
   "metadata": {},
   "outputs": [
    {
     "data": {
      "text/plain": [
       "numpy.ndarray"
      ]
     },
     "execution_count": 33,
     "metadata": {},
     "output_type": "execute_result"
    }
   ],
   "source": [
    "type(X_test_array[1])"
   ]
  },
  {
   "cell_type": "markdown",
   "id": "0702b1dd",
   "metadata": {},
   "source": [
    "#### MODEL ARCHITECTURE"
   ]
  },
  {
   "cell_type": "code",
   "execution_count": 34,
   "id": "63630b87",
   "metadata": {},
   "outputs": [],
   "source": [
    "def RecommenderNet():\n",
    "    embedding_size= 128\n",
    "\n",
    "    user =Input(name=\"user\",shape=[1])\n",
    "    user_embedding =Embedding(name=\"user_embeddings\",input_dim=n_users,output_dim=embedding_size)(user)\n",
    "\n",
    "    anime=Input(name=\"anime\",shape=[1])\n",
    "    anime_embedding =Embedding(name=\"anime_embedding\",input_dim=n_anime,output_dim=embedding_size)(anime)\n",
    "\n",
    "    x=Dot(name=\"Dot_Product\",normalize=True,axes =2)([user_embedding,anime_embedding])# dot product to find similarity between user and anime\n",
    "\n",
    "    x= Flatten()(x)\n",
    "    x= Dense(1,kernel_initializer='he_normal')(x)\n",
    "    x=BatchNormalization()(x)\n",
    "    x=Activation(\"sigmoid\")(x)\n",
    "\n",
    "    model =Model(inputs=[user,anime],outputs=x)\n",
    "    model.compile(loss=\"binary_crossentropy\",metrics=[\"mae\",\"mse\"],optimizer=\"adam\")\n",
    "    return model\n",
    "\n"
   ]
  },
  {
   "cell_type": "code",
   "execution_count": 35,
   "id": "87676111",
   "metadata": {},
   "outputs": [],
   "source": [
    "model=RecommenderNet()"
   ]
  },
  {
   "cell_type": "code",
   "execution_count": 36,
   "id": "cd3eedfc",
   "metadata": {},
   "outputs": [
    {
     "data": {
      "text/html": [
       "<pre style=\"white-space:pre;overflow-x:auto;line-height:normal;font-family:Menlo,'DejaVu Sans Mono',consolas,'Courier New',monospace\"><span style=\"font-weight: bold\">Model: \"functional\"</span>\n",
       "</pre>\n"
      ],
      "text/plain": [
       "\u001b[1mModel: \"functional\"\u001b[0m\n"
      ]
     },
     "metadata": {},
     "output_type": "display_data"
    },
    {
     "data": {
      "text/html": [
       "<pre style=\"white-space:pre;overflow-x:auto;line-height:normal;font-family:Menlo,'DejaVu Sans Mono',consolas,'Courier New',monospace\">┏━━━━━━━━━━━━━━━━━━━━━┳━━━━━━━━━━━━━━━━━━━┳━━━━━━━━━━━━┳━━━━━━━━━━━━━━━━━━━┓\n",
       "┃<span style=\"font-weight: bold\"> Layer (type)        </span>┃<span style=\"font-weight: bold\"> Output Shape      </span>┃<span style=\"font-weight: bold\">    Param # </span>┃<span style=\"font-weight: bold\"> Connected to      </span>┃\n",
       "┡━━━━━━━━━━━━━━━━━━━━━╇━━━━━━━━━━━━━━━━━━━╇━━━━━━━━━━━━╇━━━━━━━━━━━━━━━━━━━┩\n",
       "│ user (<span style=\"color: #0087ff; text-decoration-color: #0087ff\">InputLayer</span>)   │ (<span style=\"color: #00d7ff; text-decoration-color: #00d7ff\">None</span>, <span style=\"color: #00af00; text-decoration-color: #00af00\">1</span>)         │          <span style=\"color: #00af00; text-decoration-color: #00af00\">0</span> │ -                 │\n",
       "├─────────────────────┼───────────────────┼────────────┼───────────────────┤\n",
       "│ anime (<span style=\"color: #0087ff; text-decoration-color: #0087ff\">InputLayer</span>)  │ (<span style=\"color: #00d7ff; text-decoration-color: #00d7ff\">None</span>, <span style=\"color: #00af00; text-decoration-color: #00af00\">1</span>)         │          <span style=\"color: #00af00; text-decoration-color: #00af00\">0</span> │ -                 │\n",
       "├─────────────────────┼───────────────────┼────────────┼───────────────────┤\n",
       "│ user_embeddings     │ (<span style=\"color: #00d7ff; text-decoration-color: #00d7ff\">None</span>, <span style=\"color: #00af00; text-decoration-color: #00af00\">1</span>, <span style=\"color: #00af00; text-decoration-color: #00af00\">128</span>)    │    <span style=\"color: #00af00; text-decoration-color: #00af00\">537,984</span> │ user[<span style=\"color: #00af00; text-decoration-color: #00af00\">0</span>][<span style=\"color: #00af00; text-decoration-color: #00af00\">0</span>]        │\n",
       "│ (<span style=\"color: #0087ff; text-decoration-color: #0087ff\">Embedding</span>)         │                   │            │                   │\n",
       "├─────────────────────┼───────────────────┼────────────┼───────────────────┤\n",
       "│ anime_embedding     │ (<span style=\"color: #00d7ff; text-decoration-color: #00d7ff\">None</span>, <span style=\"color: #00af00; text-decoration-color: #00af00\">1</span>, <span style=\"color: #00af00; text-decoration-color: #00af00\">128</span>)    │  <span style=\"color: #00af00; text-decoration-color: #00af00\">2,195,072</span> │ anime[<span style=\"color: #00af00; text-decoration-color: #00af00\">0</span>][<span style=\"color: #00af00; text-decoration-color: #00af00\">0</span>]       │\n",
       "│ (<span style=\"color: #0087ff; text-decoration-color: #0087ff\">Embedding</span>)         │                   │            │                   │\n",
       "├─────────────────────┼───────────────────┼────────────┼───────────────────┤\n",
       "│ Dot_Product (<span style=\"color: #0087ff; text-decoration-color: #0087ff\">Dot</span>)   │ (<span style=\"color: #00d7ff; text-decoration-color: #00d7ff\">None</span>, <span style=\"color: #00af00; text-decoration-color: #00af00\">1</span>, <span style=\"color: #00af00; text-decoration-color: #00af00\">1</span>)      │          <span style=\"color: #00af00; text-decoration-color: #00af00\">0</span> │ user_embeddings[<span style=\"color: #00af00; text-decoration-color: #00af00\">…</span> │\n",
       "│                     │                   │            │ anime_embedding[<span style=\"color: #00af00; text-decoration-color: #00af00\">…</span> │\n",
       "├─────────────────────┼───────────────────┼────────────┼───────────────────┤\n",
       "│ flatten (<span style=\"color: #0087ff; text-decoration-color: #0087ff\">Flatten</span>)   │ (<span style=\"color: #00d7ff; text-decoration-color: #00d7ff\">None</span>, <span style=\"color: #00af00; text-decoration-color: #00af00\">1</span>)         │          <span style=\"color: #00af00; text-decoration-color: #00af00\">0</span> │ Dot_Product[<span style=\"color: #00af00; text-decoration-color: #00af00\">0</span>][<span style=\"color: #00af00; text-decoration-color: #00af00\">0</span>] │\n",
       "├─────────────────────┼───────────────────┼────────────┼───────────────────┤\n",
       "│ dense (<span style=\"color: #0087ff; text-decoration-color: #0087ff\">Dense</span>)       │ (<span style=\"color: #00d7ff; text-decoration-color: #00d7ff\">None</span>, <span style=\"color: #00af00; text-decoration-color: #00af00\">1</span>)         │          <span style=\"color: #00af00; text-decoration-color: #00af00\">2</span> │ flatten[<span style=\"color: #00af00; text-decoration-color: #00af00\">0</span>][<span style=\"color: #00af00; text-decoration-color: #00af00\">0</span>]     │\n",
       "├─────────────────────┼───────────────────┼────────────┼───────────────────┤\n",
       "│ batch_normalization │ (<span style=\"color: #00d7ff; text-decoration-color: #00d7ff\">None</span>, <span style=\"color: #00af00; text-decoration-color: #00af00\">1</span>)         │          <span style=\"color: #00af00; text-decoration-color: #00af00\">4</span> │ dense[<span style=\"color: #00af00; text-decoration-color: #00af00\">0</span>][<span style=\"color: #00af00; text-decoration-color: #00af00\">0</span>]       │\n",
       "│ (<span style=\"color: #0087ff; text-decoration-color: #0087ff\">BatchNormalizatio…</span> │                   │            │                   │\n",
       "├─────────────────────┼───────────────────┼────────────┼───────────────────┤\n",
       "│ activation          │ (<span style=\"color: #00d7ff; text-decoration-color: #00d7ff\">None</span>, <span style=\"color: #00af00; text-decoration-color: #00af00\">1</span>)         │          <span style=\"color: #00af00; text-decoration-color: #00af00\">0</span> │ batch_normalizat… │\n",
       "│ (<span style=\"color: #0087ff; text-decoration-color: #0087ff\">Activation</span>)        │                   │            │                   │\n",
       "└─────────────────────┴───────────────────┴────────────┴───────────────────┘\n",
       "</pre>\n"
      ],
      "text/plain": [
       "┏━━━━━━━━━━━━━━━━━━━━━┳━━━━━━━━━━━━━━━━━━━┳━━━━━━━━━━━━┳━━━━━━━━━━━━━━━━━━━┓\n",
       "┃\u001b[1m \u001b[0m\u001b[1mLayer (type)       \u001b[0m\u001b[1m \u001b[0m┃\u001b[1m \u001b[0m\u001b[1mOutput Shape     \u001b[0m\u001b[1m \u001b[0m┃\u001b[1m \u001b[0m\u001b[1m   Param #\u001b[0m\u001b[1m \u001b[0m┃\u001b[1m \u001b[0m\u001b[1mConnected to     \u001b[0m\u001b[1m \u001b[0m┃\n",
       "┡━━━━━━━━━━━━━━━━━━━━━╇━━━━━━━━━━━━━━━━━━━╇━━━━━━━━━━━━╇━━━━━━━━━━━━━━━━━━━┩\n",
       "│ user (\u001b[38;5;33mInputLayer\u001b[0m)   │ (\u001b[38;5;45mNone\u001b[0m, \u001b[38;5;34m1\u001b[0m)         │          \u001b[38;5;34m0\u001b[0m │ -                 │\n",
       "├─────────────────────┼───────────────────┼────────────┼───────────────────┤\n",
       "│ anime (\u001b[38;5;33mInputLayer\u001b[0m)  │ (\u001b[38;5;45mNone\u001b[0m, \u001b[38;5;34m1\u001b[0m)         │          \u001b[38;5;34m0\u001b[0m │ -                 │\n",
       "├─────────────────────┼───────────────────┼────────────┼───────────────────┤\n",
       "│ user_embeddings     │ (\u001b[38;5;45mNone\u001b[0m, \u001b[38;5;34m1\u001b[0m, \u001b[38;5;34m128\u001b[0m)    │    \u001b[38;5;34m537,984\u001b[0m │ user[\u001b[38;5;34m0\u001b[0m][\u001b[38;5;34m0\u001b[0m]        │\n",
       "│ (\u001b[38;5;33mEmbedding\u001b[0m)         │                   │            │                   │\n",
       "├─────────────────────┼───────────────────┼────────────┼───────────────────┤\n",
       "│ anime_embedding     │ (\u001b[38;5;45mNone\u001b[0m, \u001b[38;5;34m1\u001b[0m, \u001b[38;5;34m128\u001b[0m)    │  \u001b[38;5;34m2,195,072\u001b[0m │ anime[\u001b[38;5;34m0\u001b[0m][\u001b[38;5;34m0\u001b[0m]       │\n",
       "│ (\u001b[38;5;33mEmbedding\u001b[0m)         │                   │            │                   │\n",
       "├─────────────────────┼───────────────────┼────────────┼───────────────────┤\n",
       "│ Dot_Product (\u001b[38;5;33mDot\u001b[0m)   │ (\u001b[38;5;45mNone\u001b[0m, \u001b[38;5;34m1\u001b[0m, \u001b[38;5;34m1\u001b[0m)      │          \u001b[38;5;34m0\u001b[0m │ user_embeddings[\u001b[38;5;34m…\u001b[0m │\n",
       "│                     │                   │            │ anime_embedding[\u001b[38;5;34m…\u001b[0m │\n",
       "├─────────────────────┼───────────────────┼────────────┼───────────────────┤\n",
       "│ flatten (\u001b[38;5;33mFlatten\u001b[0m)   │ (\u001b[38;5;45mNone\u001b[0m, \u001b[38;5;34m1\u001b[0m)         │          \u001b[38;5;34m0\u001b[0m │ Dot_Product[\u001b[38;5;34m0\u001b[0m][\u001b[38;5;34m0\u001b[0m] │\n",
       "├─────────────────────┼───────────────────┼────────────┼───────────────────┤\n",
       "│ dense (\u001b[38;5;33mDense\u001b[0m)       │ (\u001b[38;5;45mNone\u001b[0m, \u001b[38;5;34m1\u001b[0m)         │          \u001b[38;5;34m2\u001b[0m │ flatten[\u001b[38;5;34m0\u001b[0m][\u001b[38;5;34m0\u001b[0m]     │\n",
       "├─────────────────────┼───────────────────┼────────────┼───────────────────┤\n",
       "│ batch_normalization │ (\u001b[38;5;45mNone\u001b[0m, \u001b[38;5;34m1\u001b[0m)         │          \u001b[38;5;34m4\u001b[0m │ dense[\u001b[38;5;34m0\u001b[0m][\u001b[38;5;34m0\u001b[0m]       │\n",
       "│ (\u001b[38;5;33mBatchNormalizatio…\u001b[0m │                   │            │                   │\n",
       "├─────────────────────┼───────────────────┼────────────┼───────────────────┤\n",
       "│ activation          │ (\u001b[38;5;45mNone\u001b[0m, \u001b[38;5;34m1\u001b[0m)         │          \u001b[38;5;34m0\u001b[0m │ batch_normalizat… │\n",
       "│ (\u001b[38;5;33mActivation\u001b[0m)        │                   │            │                   │\n",
       "└─────────────────────┴───────────────────┴────────────┴───────────────────┘\n"
      ]
     },
     "metadata": {},
     "output_type": "display_data"
    },
    {
     "data": {
      "text/html": [
       "<pre style=\"white-space:pre;overflow-x:auto;line-height:normal;font-family:Menlo,'DejaVu Sans Mono',consolas,'Courier New',monospace\"><span style=\"font-weight: bold\"> Total params: </span><span style=\"color: #00af00; text-decoration-color: #00af00\">2,733,062</span> (10.43 MB)\n",
       "</pre>\n"
      ],
      "text/plain": [
       "\u001b[1m Total params: \u001b[0m\u001b[38;5;34m2,733,062\u001b[0m (10.43 MB)\n"
      ]
     },
     "metadata": {},
     "output_type": "display_data"
    },
    {
     "data": {
      "text/html": [
       "<pre style=\"white-space:pre;overflow-x:auto;line-height:normal;font-family:Menlo,'DejaVu Sans Mono',consolas,'Courier New',monospace\"><span style=\"font-weight: bold\"> Trainable params: </span><span style=\"color: #00af00; text-decoration-color: #00af00\">2,733,060</span> (10.43 MB)\n",
       "</pre>\n"
      ],
      "text/plain": [
       "\u001b[1m Trainable params: \u001b[0m\u001b[38;5;34m2,733,060\u001b[0m (10.43 MB)\n"
      ]
     },
     "metadata": {},
     "output_type": "display_data"
    },
    {
     "data": {
      "text/html": [
       "<pre style=\"white-space:pre;overflow-x:auto;line-height:normal;font-family:Menlo,'DejaVu Sans Mono',consolas,'Courier New',monospace\"><span style=\"font-weight: bold\"> Non-trainable params: </span><span style=\"color: #00af00; text-decoration-color: #00af00\">2</span> (8.00 B)\n",
       "</pre>\n"
      ],
      "text/plain": [
       "\u001b[1m Non-trainable params: \u001b[0m\u001b[38;5;34m2\u001b[0m (8.00 B)\n"
      ]
     },
     "metadata": {},
     "output_type": "display_data"
    }
   ],
   "source": [
    "model.summary()"
   ]
  },
  {
   "cell_type": "code",
   "execution_count": 37,
   "id": "bba23d70",
   "metadata": {},
   "outputs": [],
   "source": [
    "start_lr =0.00001\n",
    "min_lr=0.0001\n",
    "max_lr=0.00005\n",
    "batch_size = 10000\n",
    "\n",
    "ramup_epochs = 5\n",
    "sustain_epochs = 0\n",
    "exp_decay =0.8\n",
    "\n",
    "def lrfn(epoch):\n",
    "    if epoch < ramup_epochs:\n",
    "        return (start_lr + (epoch/ramup_epochs) * (max_lr-start_lr))\n",
    "    elif epoch < (ramup_epochs+sustain_epochs):\n",
    "        return max_lr\n",
    "    else:\n",
    "        return (max_lr - min_lr) * exp_decay ** (epoch -ramup_epochs-sustain_epochs)+min_lr"
   ]
  },
  {
   "cell_type": "code",
   "execution_count": 38,
   "id": "f5a25ef0",
   "metadata": {},
   "outputs": [],
   "source": [
    "lr_callbacks =LearningRateScheduler(lambda epoch:lrfn(epoch),verbose=0)\n",
    "checkpoint_filepath='./weights.weights.h5'\n",
    "\n",
    "model_checkpoint=ModelCheckpoint(filepath=checkpoint_filepath,save_weights_only=True,monitor=\"val_loss\",mode=\"min\",save_best_only=True)\n",
    "early_stopping = EarlyStopping(patience=3,monitor='val_loss',mode=\"min\",restore_best_weights=True)\n"
   ]
  },
  {
   "cell_type": "code",
   "execution_count": 39,
   "id": "9d1c3b33",
   "metadata": {},
   "outputs": [],
   "source": [
    "my_callbacks = [model_checkpoint,early_stopping,lr_callbacks]"
   ]
  },
  {
   "cell_type": "code",
   "execution_count": 40,
   "id": "5738c131",
   "metadata": {},
   "outputs": [],
   "source": [
    "# history = model.fit(\n",
    "#     x=X_train_array,\n",
    "#     y=y_train,\n",
    "#     batch_size=batch_size,\n",
    "#     epochs=20,\n",
    "#     verbose = 1,\n",
    "#     validation_data = (X_test_array,y_test),    \n",
    "#     callbacks =my_callbacks\n",
    "# )"
   ]
  },
  {
   "cell_type": "code",
   "execution_count": 41,
   "id": "cad9f29c",
   "metadata": {},
   "outputs": [
    {
     "name": "stderr",
     "output_type": "stream",
     "text": [
      "c:\\Users\\91835\\OneDrive\\Desktop\\mlops_project2\\project2\\lib\\site-packages\\keras\\src\\saving\\saving_lib.py:802: UserWarning: Skipping variable loading for optimizer 'adam', because it has 2 variables whereas the saved optimizer has 14 variables. \n",
      "  saveable.load_own_variables(weights_store.get(inner_path))\n"
     ]
    }
   ],
   "source": [
    "model.load_weights(checkpoint_filepath)"
   ]
  },
  {
   "cell_type": "code",
   "execution_count": null,
   "id": "fb022a90",
   "metadata": {},
   "outputs": [],
   "source": []
  },
  {
   "cell_type": "code",
   "execution_count": 42,
   "id": "8cc34078",
   "metadata": {},
   "outputs": [],
   "source": [
    "# metrics = ['loss','mae','mse']\n",
    "\n",
    "# fig ,axes =plt.subplots(len(metrics),1,figsize = (8,len(metrics)*4))\n",
    "\n",
    "# for i,metric in enumerate(metrics):\n",
    "#     ax=axes[i]\n",
    "#     ax.plot(history.history[metric][0:-2],marker=\"o\",label =f\"train {metric}\")\n",
    "#     ax.plot(history.history[f\"val_{metric}\"][0:-2],marker=\"o\",label =f\"test {metric}\")\n",
    "#     ax.set_title(f\"Model's {metric}\")\n",
    "#     ax.set_ylabel(metric)\n",
    "#     ax.set_xlabel(\"Epoch\")\n",
    "#     ax.legend(loc=\"upper left\")\n",
    "#     ax.grid(True)\n",
    "\n",
    "# plt.show()"
   ]
  },
  {
   "cell_type": "code",
   "execution_count": 43,
   "id": "f59c3660",
   "metadata": {},
   "outputs": [],
   "source": [
    "def extract_weights(name,model):\n",
    "    weight_layer = model.get_layer(name)\n",
    "    weights =weight_layer.get_weights()[0]\n",
    "\n",
    "    weights =weights /np.linalg.norm(weights,axis=1).reshape((-1,1))\n",
    "    return weights \n"
   ]
  },
  {
   "cell_type": "code",
   "execution_count": 44,
   "id": "b8fc5bb7",
   "metadata": {},
   "outputs": [],
   "source": [
    "anime_weights = extract_weights(\"anime_embedding\",model)"
   ]
  },
  {
   "cell_type": "code",
   "execution_count": 45,
   "id": "0a91839d",
   "metadata": {},
   "outputs": [],
   "source": [
    "user_weights = extract_weights(\"user_embeddings\",model)"
   ]
  },
  {
   "cell_type": "markdown",
   "id": "aa0baa2b",
   "metadata": {},
   "source": [
    "### Amine.csv"
   ]
  },
  {
   "cell_type": "code",
   "execution_count": 46,
   "id": "0bb01320",
   "metadata": {},
   "outputs": [
    {
     "data": {
      "text/html": [
       "<div>\n",
       "<style scoped>\n",
       "    .dataframe tbody tr th:only-of-type {\n",
       "        vertical-align: middle;\n",
       "    }\n",
       "\n",
       "    .dataframe tbody tr th {\n",
       "        vertical-align: top;\n",
       "    }\n",
       "\n",
       "    .dataframe thead th {\n",
       "        text-align: right;\n",
       "    }\n",
       "</style>\n",
       "<table border=\"1\" class=\"dataframe\">\n",
       "  <thead>\n",
       "    <tr style=\"text-align: right;\">\n",
       "      <th></th>\n",
       "      <th>MAL_ID</th>\n",
       "      <th>Name</th>\n",
       "      <th>Score</th>\n",
       "      <th>Genres</th>\n",
       "      <th>English name</th>\n",
       "      <th>Japanese name</th>\n",
       "      <th>Type</th>\n",
       "      <th>Episodes</th>\n",
       "      <th>Aired</th>\n",
       "      <th>Premiered</th>\n",
       "      <th>...</th>\n",
       "      <th>Score-10</th>\n",
       "      <th>Score-9</th>\n",
       "      <th>Score-8</th>\n",
       "      <th>Score-7</th>\n",
       "      <th>Score-6</th>\n",
       "      <th>Score-5</th>\n",
       "      <th>Score-4</th>\n",
       "      <th>Score-3</th>\n",
       "      <th>Score-2</th>\n",
       "      <th>Score-1</th>\n",
       "    </tr>\n",
       "  </thead>\n",
       "  <tbody>\n",
       "    <tr>\n",
       "      <th>0</th>\n",
       "      <td>1</td>\n",
       "      <td>Cowboy Bebop</td>\n",
       "      <td>8.78</td>\n",
       "      <td>Action, Adventure, Comedy, Drama, Sci-Fi, Space</td>\n",
       "      <td>Cowboy Bebop</td>\n",
       "      <td>カウボーイビバップ</td>\n",
       "      <td>TV</td>\n",
       "      <td>26</td>\n",
       "      <td>Apr 3, 1998 to Apr 24, 1999</td>\n",
       "      <td>Spring 1998</td>\n",
       "      <td>...</td>\n",
       "      <td>229170.0</td>\n",
       "      <td>182126.0</td>\n",
       "      <td>131625.0</td>\n",
       "      <td>62330.0</td>\n",
       "      <td>20688.0</td>\n",
       "      <td>8904.0</td>\n",
       "      <td>3184.0</td>\n",
       "      <td>1357.0</td>\n",
       "      <td>741.0</td>\n",
       "      <td>1580.0</td>\n",
       "    </tr>\n",
       "    <tr>\n",
       "      <th>1</th>\n",
       "      <td>5</td>\n",
       "      <td>Cowboy Bebop: Tengoku no Tobira</td>\n",
       "      <td>8.39</td>\n",
       "      <td>Action, Drama, Mystery, Sci-Fi, Space</td>\n",
       "      <td>Cowboy Bebop:The Movie</td>\n",
       "      <td>カウボーイビバップ 天国の扉</td>\n",
       "      <td>Movie</td>\n",
       "      <td>1</td>\n",
       "      <td>Sep 1, 2001</td>\n",
       "      <td>Unknown</td>\n",
       "      <td>...</td>\n",
       "      <td>30043.0</td>\n",
       "      <td>49201.0</td>\n",
       "      <td>49505.0</td>\n",
       "      <td>22632.0</td>\n",
       "      <td>5805.0</td>\n",
       "      <td>1877.0</td>\n",
       "      <td>577.0</td>\n",
       "      <td>221.0</td>\n",
       "      <td>109.0</td>\n",
       "      <td>379.0</td>\n",
       "    </tr>\n",
       "  </tbody>\n",
       "</table>\n",
       "<p>2 rows × 35 columns</p>\n",
       "</div>"
      ],
      "text/plain": [
       "   MAL_ID                             Name Score  \\\n",
       "0       1                     Cowboy Bebop  8.78   \n",
       "1       5  Cowboy Bebop: Tengoku no Tobira  8.39   \n",
       "\n",
       "                                            Genres            English name  \\\n",
       "0  Action, Adventure, Comedy, Drama, Sci-Fi, Space            Cowboy Bebop   \n",
       "1            Action, Drama, Mystery, Sci-Fi, Space  Cowboy Bebop:The Movie   \n",
       "\n",
       "    Japanese name   Type Episodes                        Aired    Premiered  \\\n",
       "0       カウボーイビバップ     TV       26  Apr 3, 1998 to Apr 24, 1999  Spring 1998   \n",
       "1  カウボーイビバップ 天国の扉  Movie        1                  Sep 1, 2001      Unknown   \n",
       "\n",
       "   ...  Score-10   Score-9   Score-8  Score-7  Score-6 Score-5 Score-4  \\\n",
       "0  ...  229170.0  182126.0  131625.0  62330.0  20688.0  8904.0  3184.0   \n",
       "1  ...   30043.0   49201.0   49505.0  22632.0   5805.0  1877.0   577.0   \n",
       "\n",
       "   Score-3  Score-2  Score-1  \n",
       "0   1357.0    741.0   1580.0  \n",
       "1    221.0    109.0    379.0  \n",
       "\n",
       "[2 rows x 35 columns]"
      ]
     },
     "execution_count": 46,
     "metadata": {},
     "output_type": "execute_result"
    }
   ],
   "source": [
    "df=pd.read_csv(INPUT_DIR+\"/anime.csv\",low_memory=True)\n",
    "df.head(2)"
   ]
  },
  {
   "cell_type": "code",
   "execution_count": 47,
   "id": "d3f51694",
   "metadata": {},
   "outputs": [
    {
     "data": {
      "text/plain": [
       "Index(['MAL_ID', 'Name', 'Score', 'Genres', 'English name', 'Japanese name',\n",
       "       'Type', 'Episodes', 'Aired', 'Premiered', 'Producers', 'Licensors',\n",
       "       'Studios', 'Source', 'Duration', 'Rating', 'Ranked', 'Popularity',\n",
       "       'Members', 'Favorites', 'Watching', 'Completed', 'On-Hold', 'Dropped',\n",
       "       'Plan to Watch', 'Score-10', 'Score-9', 'Score-8', 'Score-7', 'Score-6',\n",
       "       'Score-5', 'Score-4', 'Score-3', 'Score-2', 'Score-1'],\n",
       "      dtype='object')"
      ]
     },
     "execution_count": 47,
     "metadata": {},
     "output_type": "execute_result"
    }
   ],
   "source": [
    "df.columns"
   ]
  },
  {
   "cell_type": "code",
   "execution_count": 48,
   "id": "5ef3dbdb",
   "metadata": {},
   "outputs": [],
   "source": [
    "df =df.replace(\"Unknown\",np.nan)"
   ]
  },
  {
   "cell_type": "code",
   "execution_count": 49,
   "id": "83ad4080",
   "metadata": {},
   "outputs": [],
   "source": [
    "def getAnimeName(anime_id):\n",
    "    try:\n",
    "        name = df[df.anime_id == anime_id][\"English name\"].values[0]\n",
    "        if name is np.nan:\n",
    "            name= df[df.anime_id == anime_id][\"Name\"].values[0]\n",
    "    except Exception as e:\n",
    "        print(\"Error\",e)\n",
    "    return name"
   ]
  },
  {
   "cell_type": "code",
   "execution_count": 50,
   "id": "ef4bc7aa",
   "metadata": {},
   "outputs": [],
   "source": [
    "df[\"anime_id\"]=df['MAL_ID']"
   ]
  },
  {
   "cell_type": "code",
   "execution_count": 51,
   "id": "307ca948",
   "metadata": {},
   "outputs": [
    {
     "data": {
      "text/html": [
       "<div>\n",
       "<style scoped>\n",
       "    .dataframe tbody tr th:only-of-type {\n",
       "        vertical-align: middle;\n",
       "    }\n",
       "\n",
       "    .dataframe tbody tr th {\n",
       "        vertical-align: top;\n",
       "    }\n",
       "\n",
       "    .dataframe thead th {\n",
       "        text-align: right;\n",
       "    }\n",
       "</style>\n",
       "<table border=\"1\" class=\"dataframe\">\n",
       "  <thead>\n",
       "    <tr style=\"text-align: right;\">\n",
       "      <th></th>\n",
       "      <th>MAL_ID</th>\n",
       "      <th>Name</th>\n",
       "      <th>Score</th>\n",
       "      <th>Genres</th>\n",
       "      <th>English name</th>\n",
       "      <th>Japanese name</th>\n",
       "      <th>Type</th>\n",
       "      <th>Episodes</th>\n",
       "      <th>Aired</th>\n",
       "      <th>Premiered</th>\n",
       "      <th>...</th>\n",
       "      <th>Score-9</th>\n",
       "      <th>Score-8</th>\n",
       "      <th>Score-7</th>\n",
       "      <th>Score-6</th>\n",
       "      <th>Score-5</th>\n",
       "      <th>Score-4</th>\n",
       "      <th>Score-3</th>\n",
       "      <th>Score-2</th>\n",
       "      <th>Score-1</th>\n",
       "      <th>anime_id</th>\n",
       "    </tr>\n",
       "  </thead>\n",
       "  <tbody>\n",
       "    <tr>\n",
       "      <th>0</th>\n",
       "      <td>1</td>\n",
       "      <td>Cowboy Bebop</td>\n",
       "      <td>8.78</td>\n",
       "      <td>Action, Adventure, Comedy, Drama, Sci-Fi, Space</td>\n",
       "      <td>Cowboy Bebop</td>\n",
       "      <td>カウボーイビバップ</td>\n",
       "      <td>TV</td>\n",
       "      <td>26</td>\n",
       "      <td>Apr 3, 1998 to Apr 24, 1999</td>\n",
       "      <td>Spring 1998</td>\n",
       "      <td>...</td>\n",
       "      <td>182126.0</td>\n",
       "      <td>131625.0</td>\n",
       "      <td>62330.0</td>\n",
       "      <td>20688.0</td>\n",
       "      <td>8904.0</td>\n",
       "      <td>3184.0</td>\n",
       "      <td>1357.0</td>\n",
       "      <td>741.0</td>\n",
       "      <td>1580.0</td>\n",
       "      <td>1</td>\n",
       "    </tr>\n",
       "  </tbody>\n",
       "</table>\n",
       "<p>1 rows × 36 columns</p>\n",
       "</div>"
      ],
      "text/plain": [
       "   MAL_ID          Name Score  \\\n",
       "0       1  Cowboy Bebop  8.78   \n",
       "\n",
       "                                            Genres  English name  \\\n",
       "0  Action, Adventure, Comedy, Drama, Sci-Fi, Space  Cowboy Bebop   \n",
       "\n",
       "  Japanese name Type Episodes                        Aired    Premiered  ...  \\\n",
       "0     カウボーイビバップ   TV       26  Apr 3, 1998 to Apr 24, 1999  Spring 1998  ...   \n",
       "\n",
       "    Score-9   Score-8  Score-7  Score-6 Score-5 Score-4 Score-3  Score-2  \\\n",
       "0  182126.0  131625.0  62330.0  20688.0  8904.0  3184.0  1357.0    741.0   \n",
       "\n",
       "   Score-1  anime_id  \n",
       "0   1580.0         1  \n",
       "\n",
       "[1 rows x 36 columns]"
      ]
     },
     "execution_count": 51,
     "metadata": {},
     "output_type": "execute_result"
    }
   ],
   "source": [
    "df.head(1)"
   ]
  },
  {
   "cell_type": "code",
   "execution_count": 52,
   "id": "0fb53b5f",
   "metadata": {},
   "outputs": [],
   "source": [
    "df['eng_version']=df['MAL_ID'].apply(getAnimeName)"
   ]
  },
  {
   "cell_type": "code",
   "execution_count": 53,
   "id": "84bd9bc2",
   "metadata": {},
   "outputs": [],
   "source": [
    "df.sort_values(by=['Score'],\n",
    "               inplace=True,\n",
    "               ascending=False,\n",
    "               na_position=\"last\")"
   ]
  },
  {
   "cell_type": "code",
   "execution_count": 54,
   "id": "e4c6fab7",
   "metadata": {},
   "outputs": [
    {
     "data": {
      "text/html": [
       "<div>\n",
       "<style scoped>\n",
       "    .dataframe tbody tr th:only-of-type {\n",
       "        vertical-align: middle;\n",
       "    }\n",
       "\n",
       "    .dataframe tbody tr th {\n",
       "        vertical-align: top;\n",
       "    }\n",
       "\n",
       "    .dataframe thead th {\n",
       "        text-align: right;\n",
       "    }\n",
       "</style>\n",
       "<table border=\"1\" class=\"dataframe\">\n",
       "  <thead>\n",
       "    <tr style=\"text-align: right;\">\n",
       "      <th></th>\n",
       "      <th>MAL_ID</th>\n",
       "      <th>Name</th>\n",
       "      <th>Score</th>\n",
       "      <th>Genres</th>\n",
       "      <th>English name</th>\n",
       "      <th>Japanese name</th>\n",
       "      <th>Type</th>\n",
       "      <th>Episodes</th>\n",
       "      <th>Aired</th>\n",
       "      <th>Premiered</th>\n",
       "      <th>...</th>\n",
       "      <th>Score-8</th>\n",
       "      <th>Score-7</th>\n",
       "      <th>Score-6</th>\n",
       "      <th>Score-5</th>\n",
       "      <th>Score-4</th>\n",
       "      <th>Score-3</th>\n",
       "      <th>Score-2</th>\n",
       "      <th>Score-1</th>\n",
       "      <th>anime_id</th>\n",
       "      <th>eng_version</th>\n",
       "    </tr>\n",
       "  </thead>\n",
       "  <tbody>\n",
       "    <tr>\n",
       "      <th>3971</th>\n",
       "      <td>5114</td>\n",
       "      <td>Fullmetal Alchemist: Brotherhood</td>\n",
       "      <td>9.19</td>\n",
       "      <td>Action, Military, Adventure, Comedy, Drama, Ma...</td>\n",
       "      <td>Fullmetal Alchemist:Brotherhood</td>\n",
       "      <td>鋼の錬金術師 FULLMETAL ALCHEMIST</td>\n",
       "      <td>TV</td>\n",
       "      <td>64</td>\n",
       "      <td>Apr 5, 2009 to Jul 4, 2010</td>\n",
       "      <td>Spring 2009</td>\n",
       "      <td>...</td>\n",
       "      <td>199160.0</td>\n",
       "      <td>70045.0</td>\n",
       "      <td>20210.0</td>\n",
       "      <td>9308.0</td>\n",
       "      <td>3222.0</td>\n",
       "      <td>1536.0</td>\n",
       "      <td>2162.0</td>\n",
       "      <td>16806.0</td>\n",
       "      <td>5114</td>\n",
       "      <td>Fullmetal Alchemist:Brotherhood</td>\n",
       "    </tr>\n",
       "    <tr>\n",
       "      <th>15926</th>\n",
       "      <td>40028</td>\n",
       "      <td>Shingeki no Kyojin: The Final Season</td>\n",
       "      <td>9.17</td>\n",
       "      <td>Action, Military, Mystery, Super Power, Drama,...</td>\n",
       "      <td>Attack on Titan Final Season</td>\n",
       "      <td>進撃の巨人 The Final Season</td>\n",
       "      <td>TV</td>\n",
       "      <td>16</td>\n",
       "      <td>Dec 7, 2020 to ?</td>\n",
       "      <td>Winter 2021</td>\n",
       "      <td>...</td>\n",
       "      <td>26016.0</td>\n",
       "      <td>8793.0</td>\n",
       "      <td>2674.0</td>\n",
       "      <td>1336.0</td>\n",
       "      <td>588.0</td>\n",
       "      <td>382.0</td>\n",
       "      <td>514.0</td>\n",
       "      <td>11061.0</td>\n",
       "      <td>40028</td>\n",
       "      <td>Attack on Titan Final Season</td>\n",
       "    </tr>\n",
       "  </tbody>\n",
       "</table>\n",
       "<p>2 rows × 37 columns</p>\n",
       "</div>"
      ],
      "text/plain": [
       "       MAL_ID                                  Name Score  \\\n",
       "3971     5114      Fullmetal Alchemist: Brotherhood  9.19   \n",
       "15926   40028  Shingeki no Kyojin: The Final Season  9.17   \n",
       "\n",
       "                                                  Genres  \\\n",
       "3971   Action, Military, Adventure, Comedy, Drama, Ma...   \n",
       "15926  Action, Military, Mystery, Super Power, Drama,...   \n",
       "\n",
       "                          English name               Japanese name Type  \\\n",
       "3971   Fullmetal Alchemist:Brotherhood  鋼の錬金術師 FULLMETAL ALCHEMIST   TV   \n",
       "15926     Attack on Titan Final Season      進撃の巨人 The Final Season   TV   \n",
       "\n",
       "      Episodes                       Aired    Premiered  ...   Score-8  \\\n",
       "3971        64  Apr 5, 2009 to Jul 4, 2010  Spring 2009  ...  199160.0   \n",
       "15926       16            Dec 7, 2020 to ?  Winter 2021  ...   26016.0   \n",
       "\n",
       "       Score-7  Score-6 Score-5 Score-4 Score-3 Score-2  Score-1  anime_id  \\\n",
       "3971   70045.0  20210.0  9308.0  3222.0  1536.0  2162.0  16806.0      5114   \n",
       "15926   8793.0   2674.0  1336.0   588.0   382.0   514.0  11061.0     40028   \n",
       "\n",
       "                           eng_version  \n",
       "3971   Fullmetal Alchemist:Brotherhood  \n",
       "15926     Attack on Titan Final Season  \n",
       "\n",
       "[2 rows x 37 columns]"
      ]
     },
     "execution_count": 54,
     "metadata": {},
     "output_type": "execute_result"
    }
   ],
   "source": [
    "df.head(2)"
   ]
  },
  {
   "cell_type": "code",
   "execution_count": 55,
   "id": "9f605831",
   "metadata": {},
   "outputs": [],
   "source": [
    "df=df[[\"anime_id\",\"eng_version\",\"Score\",\"Genres\",\"Episodes\",\"Type\",\"Premiered\",\"Members\"]]"
   ]
  },
  {
   "cell_type": "code",
   "execution_count": 56,
   "id": "84b0e7a5",
   "metadata": {},
   "outputs": [
    {
     "data": {
      "text/html": [
       "<div>\n",
       "<style scoped>\n",
       "    .dataframe tbody tr th:only-of-type {\n",
       "        vertical-align: middle;\n",
       "    }\n",
       "\n",
       "    .dataframe tbody tr th {\n",
       "        vertical-align: top;\n",
       "    }\n",
       "\n",
       "    .dataframe thead th {\n",
       "        text-align: right;\n",
       "    }\n",
       "</style>\n",
       "<table border=\"1\" class=\"dataframe\">\n",
       "  <thead>\n",
       "    <tr style=\"text-align: right;\">\n",
       "      <th></th>\n",
       "      <th>anime_id</th>\n",
       "      <th>eng_version</th>\n",
       "      <th>Score</th>\n",
       "      <th>Genres</th>\n",
       "      <th>Episodes</th>\n",
       "      <th>Type</th>\n",
       "      <th>Premiered</th>\n",
       "      <th>Members</th>\n",
       "    </tr>\n",
       "  </thead>\n",
       "  <tbody>\n",
       "    <tr>\n",
       "      <th>3971</th>\n",
       "      <td>5114</td>\n",
       "      <td>Fullmetal Alchemist:Brotherhood</td>\n",
       "      <td>9.19</td>\n",
       "      <td>Action, Military, Adventure, Comedy, Drama, Ma...</td>\n",
       "      <td>64</td>\n",
       "      <td>TV</td>\n",
       "      <td>Spring 2009</td>\n",
       "      <td>2248456</td>\n",
       "    </tr>\n",
       "    <tr>\n",
       "      <th>15926</th>\n",
       "      <td>40028</td>\n",
       "      <td>Attack on Titan Final Season</td>\n",
       "      <td>9.17</td>\n",
       "      <td>Action, Military, Mystery, Super Power, Drama,...</td>\n",
       "      <td>16</td>\n",
       "      <td>TV</td>\n",
       "      <td>Winter 2021</td>\n",
       "      <td>733260</td>\n",
       "    </tr>\n",
       "    <tr>\n",
       "      <th>5683</th>\n",
       "      <td>9253</td>\n",
       "      <td>Steins;Gate</td>\n",
       "      <td>9.11</td>\n",
       "      <td>Thriller, Sci-Fi</td>\n",
       "      <td>24</td>\n",
       "      <td>TV</td>\n",
       "      <td>Spring 2011</td>\n",
       "      <td>1771162</td>\n",
       "    </tr>\n",
       "    <tr>\n",
       "      <th>14963</th>\n",
       "      <td>38524</td>\n",
       "      <td>Attack on Titan Season 3 Part 2</td>\n",
       "      <td>9.1</td>\n",
       "      <td>Action, Drama, Fantasy, Military, Mystery, Sho...</td>\n",
       "      <td>10</td>\n",
       "      <td>TV</td>\n",
       "      <td>Spring 2019</td>\n",
       "      <td>1073626</td>\n",
       "    </tr>\n",
       "    <tr>\n",
       "      <th>9913</th>\n",
       "      <td>28977</td>\n",
       "      <td>Gintama Season 4</td>\n",
       "      <td>9.1</td>\n",
       "      <td>Action, Comedy, Historical, Parody, Samurai, S...</td>\n",
       "      <td>51</td>\n",
       "      <td>TV</td>\n",
       "      <td>Spring 2015</td>\n",
       "      <td>404121</td>\n",
       "    </tr>\n",
       "  </tbody>\n",
       "</table>\n",
       "</div>"
      ],
      "text/plain": [
       "       anime_id                      eng_version Score  \\\n",
       "3971       5114  Fullmetal Alchemist:Brotherhood  9.19   \n",
       "15926     40028     Attack on Titan Final Season  9.17   \n",
       "5683       9253                      Steins;Gate  9.11   \n",
       "14963     38524  Attack on Titan Season 3 Part 2   9.1   \n",
       "9913      28977                 Gintama Season 4   9.1   \n",
       "\n",
       "                                                  Genres Episodes Type  \\\n",
       "3971   Action, Military, Adventure, Comedy, Drama, Ma...       64   TV   \n",
       "15926  Action, Military, Mystery, Super Power, Drama,...       16   TV   \n",
       "5683                                    Thriller, Sci-Fi       24   TV   \n",
       "14963  Action, Drama, Fantasy, Military, Mystery, Sho...       10   TV   \n",
       "9913   Action, Comedy, Historical, Parody, Samurai, S...       51   TV   \n",
       "\n",
       "         Premiered  Members  \n",
       "3971   Spring 2009  2248456  \n",
       "15926  Winter 2021   733260  \n",
       "5683   Spring 2011  1771162  \n",
       "14963  Spring 2019  1073626  \n",
       "9913   Spring 2015   404121  "
      ]
     },
     "execution_count": 56,
     "metadata": {},
     "output_type": "execute_result"
    }
   ],
   "source": [
    "df.head()"
   ]
  },
  {
   "cell_type": "code",
   "execution_count": 57,
   "id": "ba5fc42e",
   "metadata": {},
   "outputs": [],
   "source": [
    "def getAnimeFrame(anime,df):\n",
    "    if isinstance(anime,int):\n",
    "        return df[df.anime_id==anime]\n",
    "    if isinstance(anime,str):\n",
    "        return df[df.eng_version == anime]"
   ]
  },
  {
   "cell_type": "code",
   "execution_count": 58,
   "id": "32081092",
   "metadata": {},
   "outputs": [
    {
     "data": {
      "text/html": [
       "<div>\n",
       "<style scoped>\n",
       "    .dataframe tbody tr th:only-of-type {\n",
       "        vertical-align: middle;\n",
       "    }\n",
       "\n",
       "    .dataframe tbody tr th {\n",
       "        vertical-align: top;\n",
       "    }\n",
       "\n",
       "    .dataframe thead th {\n",
       "        text-align: right;\n",
       "    }\n",
       "</style>\n",
       "<table border=\"1\" class=\"dataframe\">\n",
       "  <thead>\n",
       "    <tr style=\"text-align: right;\">\n",
       "      <th></th>\n",
       "      <th>anime_id</th>\n",
       "      <th>eng_version</th>\n",
       "      <th>Score</th>\n",
       "      <th>Genres</th>\n",
       "      <th>Episodes</th>\n",
       "      <th>Type</th>\n",
       "      <th>Premiered</th>\n",
       "      <th>Members</th>\n",
       "    </tr>\n",
       "  </thead>\n",
       "  <tbody>\n",
       "    <tr>\n",
       "      <th>15926</th>\n",
       "      <td>40028</td>\n",
       "      <td>Attack on Titan Final Season</td>\n",
       "      <td>9.17</td>\n",
       "      <td>Action, Military, Mystery, Super Power, Drama,...</td>\n",
       "      <td>16</td>\n",
       "      <td>TV</td>\n",
       "      <td>Winter 2021</td>\n",
       "      <td>733260</td>\n",
       "    </tr>\n",
       "  </tbody>\n",
       "</table>\n",
       "</div>"
      ],
      "text/plain": [
       "       anime_id                   eng_version Score  \\\n",
       "15926     40028  Attack on Titan Final Season  9.17   \n",
       "\n",
       "                                                  Genres Episodes Type  \\\n",
       "15926  Action, Military, Mystery, Super Power, Drama,...       16   TV   \n",
       "\n",
       "         Premiered  Members  \n",
       "15926  Winter 2021   733260  "
      ]
     },
     "execution_count": 58,
     "metadata": {},
     "output_type": "execute_result"
    }
   ],
   "source": [
    "getAnimeFrame(\"Attack on Titan Final Season\",df)"
   ]
  },
  {
   "cell_type": "markdown",
   "id": "f0eba06e",
   "metadata": {},
   "source": [
    "### Anime with Synopsis"
   ]
  },
  {
   "cell_type": "code",
   "execution_count": 59,
   "id": "0efac66f",
   "metadata": {},
   "outputs": [],
   "source": [
    "cols = [\"MAL_ID\",\"Name\",\"Genres\",\"sypnopsis\"]"
   ]
  },
  {
   "cell_type": "code",
   "execution_count": 60,
   "id": "4bbd024f",
   "metadata": {},
   "outputs": [],
   "source": [
    "sypnopsis_df = pd.read_csv(INPUT_DIR+'/anime_with_synopsis.csv',low_memory=True,usecols=cols)"
   ]
  },
  {
   "cell_type": "code",
   "execution_count": 61,
   "id": "9ec4b0d2",
   "metadata": {},
   "outputs": [
    {
     "data": {
      "text/html": [
       "<div>\n",
       "<style scoped>\n",
       "    .dataframe tbody tr th:only-of-type {\n",
       "        vertical-align: middle;\n",
       "    }\n",
       "\n",
       "    .dataframe tbody tr th {\n",
       "        vertical-align: top;\n",
       "    }\n",
       "\n",
       "    .dataframe thead th {\n",
       "        text-align: right;\n",
       "    }\n",
       "</style>\n",
       "<table border=\"1\" class=\"dataframe\">\n",
       "  <thead>\n",
       "    <tr style=\"text-align: right;\">\n",
       "      <th></th>\n",
       "      <th>MAL_ID</th>\n",
       "      <th>Name</th>\n",
       "      <th>Genres</th>\n",
       "      <th>sypnopsis</th>\n",
       "    </tr>\n",
       "  </thead>\n",
       "  <tbody>\n",
       "    <tr>\n",
       "      <th>0</th>\n",
       "      <td>1</td>\n",
       "      <td>Cowboy Bebop</td>\n",
       "      <td>Action, Adventure, Comedy, Drama, Sci-Fi, Space</td>\n",
       "      <td>In the year 2071, humanity has colonized sever...</td>\n",
       "    </tr>\n",
       "    <tr>\n",
       "      <th>1</th>\n",
       "      <td>5</td>\n",
       "      <td>Cowboy Bebop: Tengoku no Tobira</td>\n",
       "      <td>Action, Drama, Mystery, Sci-Fi, Space</td>\n",
       "      <td>other day, another bounty—such is the life of ...</td>\n",
       "    </tr>\n",
       "  </tbody>\n",
       "</table>\n",
       "</div>"
      ],
      "text/plain": [
       "   MAL_ID                             Name  \\\n",
       "0       1                     Cowboy Bebop   \n",
       "1       5  Cowboy Bebop: Tengoku no Tobira   \n",
       "\n",
       "                                            Genres  \\\n",
       "0  Action, Adventure, Comedy, Drama, Sci-Fi, Space   \n",
       "1            Action, Drama, Mystery, Sci-Fi, Space   \n",
       "\n",
       "                                           sypnopsis  \n",
       "0  In the year 2071, humanity has colonized sever...  \n",
       "1  other day, another bounty—such is the life of ...  "
      ]
     },
     "execution_count": 61,
     "metadata": {},
     "output_type": "execute_result"
    }
   ],
   "source": [
    "sypnopsis_df.head(2)"
   ]
  },
  {
   "cell_type": "code",
   "execution_count": 85,
   "id": "f09373af",
   "metadata": {},
   "outputs": [],
   "source": [
    "def getSynopsis(anime,sypnopsis_df):\n",
    "    if isinstance(anime,int):\n",
    "        return sypnopsis_df[sypnopsis_df.MAL_ID == anime][\"sypnopsis\"].values[0]\n",
    "    if isinstance(anime,str):\n",
    "        return sypnopsis_df[sypnopsis_df.Name == anime][\"sypnopsis\"][0]"
   ]
  },
  {
   "cell_type": "code",
   "execution_count": 86,
   "id": "2e803210",
   "metadata": {},
   "outputs": [
    {
     "data": {
      "text/plain": [
       "\"Gabi Braun and Falco Grice have been training their entire lives to inherit one of the seven titans under Marley's control and aid their nation in eradicating the Eldians on Paradis. However, just as all seems well for the two cadets, their peace is suddenly shaken by the arrival of Eren Yeager and the remaining members of the Survey Corps. Having finally reached the Yeager family basement and learned about the dark history surrounding the titans, the Survey Corps has at long last found the answer they so desperately fought to uncover. With the truth now in their hands, the group set out for the world beyond the walls. In Shingeki no Kyojin: The Final Season , two utterly different worlds collide as each party pursues its own agenda in the long-awaited conclusion to Paradis' fight for freedom.\""
      ]
     },
     "execution_count": 86,
     "metadata": {},
     "output_type": "execute_result"
    }
   ],
   "source": [
    "getSynopsis(40028,sypnopsis_df=sypnopsis_df)"
   ]
  },
  {
   "cell_type": "markdown",
   "id": "43de3241",
   "metadata": {},
   "source": [
    "# Content/Item based Recommendation System"
   ]
  },
  {
   "cell_type": "code",
   "execution_count": 64,
   "id": "73b045a8",
   "metadata": {},
   "outputs": [],
   "source": [
    "pd.set_option(\"max_colwidth\",None)"
   ]
  },
  {
   "cell_type": "code",
   "execution_count": 89,
   "id": "64fd4bd5",
   "metadata": {},
   "outputs": [],
   "source": [
    "def find_similar_animes(name,anime_weights,anime2anime_encoded,\n",
    "                        anime2anime_decoded,df,sypnopsis_df,n=10,return_dist=False,negative=False):# negative=True disimilar items ,False Similar animes\n",
    "    # try:\n",
    "        index = getAnimeFrame(name,df).anime_id.values[0]\n",
    "        \n",
    "        encoded_index =anime2anime_encoded.get(index)\n",
    "\n",
    "        weights = anime_weights\n",
    "        dists = np.dot(weights,weights[encoded_index])\n",
    "        sorted_dist = np.argsort(dists) # argsort gives the indexes needed for sorting\n",
    "        n+=1\n",
    "\n",
    "        if negative:\n",
    "            closest = sorted_dist[:n]\n",
    "        else:\n",
    "            closest = sorted_dist[-n:]\n",
    "        \n",
    "        print(f\"Anime closest to {name}\")\n",
    "\n",
    "        if return_dist:\n",
    "            return dists,closest\n",
    "\n",
    "        similarityArr =[]\n",
    "        for closes in closest:\n",
    "            decoded_id  = anime2anime_decoded.get(closes)\n",
    "\n",
    "            anime_frame =getAnimeFrame(decoded_id,df)\n",
    "            anime_name =anime_frame.eng_version.values[0]\n",
    "            genre =anime_frame.Genres.values[0]\n",
    "            similarity =dists[closes]\n",
    "            similarityArr.append({\n",
    "                \"anime_id\":decoded_id,\n",
    "                \"name\":anime_name,\n",
    "                \"similarity\":similarity,\n",
    "                \"genre\":genre,\n",
    "                \n",
    "\n",
    "            })\n",
    "        Frame =pd.DataFrame(similarityArr).sort_values(by=\"similarity\",ascending=False)\n",
    "        return Frame[Frame.anime_id!=index].drop([\"anime_id\"],axis=1)\n",
    "    # except Exception as e:\n",
    "    #     print(\"Error occured\",e)"
   ]
  },
  {
   "cell_type": "code",
   "execution_count": 66,
   "id": "c887aec3",
   "metadata": {},
   "outputs": [
    {
     "name": "stdout",
     "output_type": "stream",
     "text": [
      "Anime closest to Steins;Gate\n"
     ]
    },
    {
     "data": {
      "text/html": [
       "<div>\n",
       "<style scoped>\n",
       "    .dataframe tbody tr th:only-of-type {\n",
       "        vertical-align: middle;\n",
       "    }\n",
       "\n",
       "    .dataframe tbody tr th {\n",
       "        vertical-align: top;\n",
       "    }\n",
       "\n",
       "    .dataframe thead th {\n",
       "        text-align: right;\n",
       "    }\n",
       "</style>\n",
       "<table border=\"1\" class=\"dataframe\">\n",
       "  <thead>\n",
       "    <tr style=\"text-align: right;\">\n",
       "      <th></th>\n",
       "      <th>name</th>\n",
       "      <th>similarity</th>\n",
       "      <th>genre</th>\n",
       "      <th>synopsis</th>\n",
       "    </tr>\n",
       "  </thead>\n",
       "  <tbody>\n",
       "    <tr>\n",
       "      <th>9</th>\n",
       "      <td>Guru Guru Town Hanamaru-kun</td>\n",
       "      <td>0.320327</td>\n",
       "      <td>Kids</td>\n",
       "      <td>Guru Guru Town Hanamaru-kun follows the life of some children in a fictional town.</td>\n",
       "    </tr>\n",
       "    <tr>\n",
       "      <th>8</th>\n",
       "      <td>Crayon Shin-chan Movie 02: Buriburi Oukoku no Hihou</td>\n",
       "      <td>0.315955</td>\n",
       "      <td>Action, Adventure, Comedy, Seinen</td>\n",
       "      <td>action adventure film set in a imaginary southern island in the Indian Ocean. The evil secret society, \"White Snake\" abducted Shinnosuke and Prince Sunnokeshi of the Buri Buri Kingdom, who looks very much like Shinnosuke, in order to get the kingdom's hidden treasure in the golden palace underground. Shinnosuke's parents, Hiroshi and Misae fight with Lulu, the major of the palace guard of the kingdom, against White Snake, trying to recapture Shinnosuke and the prince. (Source: Manabu Tsuribe)</td>\n",
       "    </tr>\n",
       "    <tr>\n",
       "      <th>7</th>\n",
       "      <td>PiKA PiKA</td>\n",
       "      <td>0.301773</td>\n",
       "      <td>NaN</td>\n",
       "      <td>stract short film, the first \"lightning doodle\" film by Tochka.</td>\n",
       "    </tr>\n",
       "    <tr>\n",
       "      <th>6</th>\n",
       "      <td>Magical Girl Lyrical Nanoha Reflection</td>\n",
       "      <td>0.300415</td>\n",
       "      <td>Action, Drama, Magic, Sci-Fi</td>\n",
       "      <td>pair of researchers stays behind on their dying planet of Eltria with their two daughters, Amitie and Kirie, in hopes of finding a way to revive the planet. But when the husband Granz falls ill it seems their dream of reviving the planet will die. Against her older sister's wishes, Kirie sets off with her childhood friend Iris to seek help from a distant alternate world. They arrive in Japan on Earth to search for the key to their planet's regeneration. There, they meet Nanoha, Fate, and Hayate. (Source: ANN)</td>\n",
       "    </tr>\n",
       "    <tr>\n",
       "      <th>5</th>\n",
       "      <td>I'm Here with You</td>\n",
       "      <td>0.298833</td>\n",
       "      <td>Music, Kids</td>\n",
       "      <td>gentle song about the earth by Mimori Yusa that was featured on NHK's Minna no Uta.</td>\n",
       "    </tr>\n",
       "    <tr>\n",
       "      <th>4</th>\n",
       "      <td>Konjiki no Gash Bell!!: Ougon no Chichi wo Motsu Otoko</td>\n",
       "      <td>0.289914</td>\n",
       "      <td>Action, Adventure, Comedy, Ecchi, Kids, Magic, Romance, Super Power, Supernatural</td>\n",
       "      <td>Folgore - 00F, the world's most ultimate spy is set on retrieving the stolen boobs. Watch as many of the characters from the original series (Konjiki no Gash Bell) are given life anew in this alternate setting.</td>\n",
       "    </tr>\n",
       "    <tr>\n",
       "      <th>3</th>\n",
       "      <td>Super Doll Licca-chan: Licca-chan Zettai Zetsumei! Doll Knights no Kiseki</td>\n",
       "      <td>0.283109</td>\n",
       "      <td>Action, Adventure, Super Power, Kids, Magic, Fantasy, Shoujo</td>\n",
       "      <td>fun day at the amusement park is interrupted when the evil witch Dana is reawakened. Queen Yae has sent her after Rika and only the Doll Knights can stop this threat. Meanwhile, Dai and the others must deal with other dangers. (Source: ANN)</td>\n",
       "    </tr>\n",
       "    <tr>\n",
       "      <th>2</th>\n",
       "      <td>Kiddy GiRL-AND Pilot</td>\n",
       "      <td>0.280380</td>\n",
       "      <td>Action, Super Power, Sci-Fi</td>\n",
       "      <td>ES members Éclair and Lumière once were involved in a battle to decide the fate of the galaxy. They prevailed and peace was restored to the galaxy. Now, several years later, the galaxy once again stands on the brink of chaos. This conflict will see the dawn of two new heroines; Ascoeur and Q-feuille.</td>\n",
       "    </tr>\n",
       "    <tr>\n",
       "      <th>1</th>\n",
       "      <td>Shinshaku Sengoku Eiyuu Densetsu: Sanada Juu Yuushi The Animation</td>\n",
       "      <td>0.276130</td>\n",
       "      <td>Action, Comedy, Historical, Military, Samurai</td>\n",
       "      <td>In the Fifth Year of the Keicho era, the Tokugawa clan sought to solidify their control of Japan. Hidetada Tokugawa has come to the doorsteps of Ueda Castle with the intentions of having the Sanada clan open its doors to him. But the Sanada and their retainers have other plans... (Source: ANN)</td>\n",
       "    </tr>\n",
       "    <tr>\n",
       "      <th>0</th>\n",
       "      <td>Asunal Kanayama</td>\n",
       "      <td>0.275079</td>\n",
       "      <td>Slice of Life</td>\n",
       "      <td>mated commercials for Asunal Kanayama , a large open-air mall in Nagoya. There are 3 separate Fair commercials from 2013 but besides the dialogue and a change in the background color, the animation remains identical. As such, MAL will reflect this trio as a single episode.</td>\n",
       "    </tr>\n",
       "  </tbody>\n",
       "</table>\n",
       "</div>"
      ],
      "text/plain": [
       "                                                                        name  \\\n",
       "9                                                Guru Guru Town Hanamaru-kun   \n",
       "8                        Crayon Shin-chan Movie 02: Buriburi Oukoku no Hihou   \n",
       "7                                                                  PiKA PiKA   \n",
       "6                                     Magical Girl Lyrical Nanoha Reflection   \n",
       "5                                                          I'm Here with You   \n",
       "4                     Konjiki no Gash Bell!!: Ougon no Chichi wo Motsu Otoko   \n",
       "3  Super Doll Licca-chan: Licca-chan Zettai Zetsumei! Doll Knights no Kiseki   \n",
       "2                                                       Kiddy GiRL-AND Pilot   \n",
       "1          Shinshaku Sengoku Eiyuu Densetsu: Sanada Juu Yuushi The Animation   \n",
       "0                                                            Asunal Kanayama   \n",
       "\n",
       "   similarity  \\\n",
       "9    0.320327   \n",
       "8    0.315955   \n",
       "7    0.301773   \n",
       "6    0.300415   \n",
       "5    0.298833   \n",
       "4    0.289914   \n",
       "3    0.283109   \n",
       "2    0.280380   \n",
       "1    0.276130   \n",
       "0    0.275079   \n",
       "\n",
       "                                                                               genre  \\\n",
       "9                                                                               Kids   \n",
       "8                                                  Action, Adventure, Comedy, Seinen   \n",
       "7                                                                                NaN   \n",
       "6                                                       Action, Drama, Magic, Sci-Fi   \n",
       "5                                                                        Music, Kids   \n",
       "4  Action, Adventure, Comedy, Ecchi, Kids, Magic, Romance, Super Power, Supernatural   \n",
       "3                       Action, Adventure, Super Power, Kids, Magic, Fantasy, Shoujo   \n",
       "2                                                        Action, Super Power, Sci-Fi   \n",
       "1                                      Action, Comedy, Historical, Military, Samurai   \n",
       "0                                                                      Slice of Life   \n",
       "\n",
       "                                                                                                                                                                                                                                                                                                                                                                                                                                                                                                                             synopsis  \n",
       "9                                                                                                                                                                                                                                                                                                                                                                                                                                                  Guru Guru Town Hanamaru-kun follows the life of some children in a fictional town.  \n",
       "8                   action adventure film set in a imaginary southern island in the Indian Ocean. The evil secret society, \"White Snake\" abducted Shinnosuke and Prince Sunnokeshi of the Buri Buri Kingdom, who looks very much like Shinnosuke, in order to get the kingdom's hidden treasure in the golden palace underground. Shinnosuke's parents, Hiroshi and Misae fight with Lulu, the major of the palace guard of the kingdom, against White Snake, trying to recapture Shinnosuke and the prince. (Source: Manabu Tsuribe)  \n",
       "7                                                                                                                                                                                                                                                                                                                                                                                                                                                                     stract short film, the first \"lightning doodle\" film by Tochka.  \n",
       "6  pair of researchers stays behind on their dying planet of Eltria with their two daughters, Amitie and Kirie, in hopes of finding a way to revive the planet. But when the husband Granz falls ill it seems their dream of reviving the planet will die. Against her older sister's wishes, Kirie sets off with her childhood friend Iris to seek help from a distant alternate world. They arrive in Japan on Earth to search for the key to their planet's regeneration. There, they meet Nanoha, Fate, and Hayate. (Source: ANN)  \n",
       "5                                                                                                                                                                                                                                                                                                                                                                                                                                                 gentle song about the earth by Mimori Yusa that was featured on NHK's Minna no Uta.  \n",
       "4                                                                                                                                                                                                                                                                                                                  Folgore - 00F, the world's most ultimate spy is set on retrieving the stolen boobs. Watch as many of the characters from the original series (Konjiki no Gash Bell) are given life anew in this alternate setting.  \n",
       "3                                                                                                                                                                                                                                                                                    fun day at the amusement park is interrupted when the evil witch Dana is reawakened. Queen Yae has sent her after Rika and only the Doll Knights can stop this threat. Meanwhile, Dai and the others must deal with other dangers. (Source: ANN)  \n",
       "2                                                                                                                                                                                                                       ES members Éclair and Lumière once were involved in a battle to decide the fate of the galaxy. They prevailed and peace was restored to the galaxy. Now, several years later, the galaxy once again stands on the brink of chaos. This conflict will see the dawn of two new heroines; Ascoeur and Q-feuille.  \n",
       "1                                                                                                                                                                                                                              In the Fifth Year of the Keicho era, the Tokugawa clan sought to solidify their control of Japan. Hidetada Tokugawa has come to the doorsteps of Ueda Castle with the intentions of having the Sanada clan open its doors to him. But the Sanada and their retainers have other plans... (Source: ANN)  \n",
       "0                                                                                                                                                                                                                                                   mated commercials for Asunal Kanayama , a large open-air mall in Nagoya. There are 3 separate Fair commercials from 2013 but besides the dialogue and a change in the background color, the animation remains identical. As such, MAL will reflect this trio as a single episode.  "
      ]
     },
     "execution_count": 66,
     "metadata": {},
     "output_type": "execute_result"
    }
   ],
   "source": [
    "\n",
    "find_similar_animes(\"Steins;Gate\",anime_weights,anime2anime_encoded,anime2anime_decoded,df,sypnopsis_df,)"
   ]
  },
  {
   "cell_type": "markdown",
   "id": "8c8863e1",
   "metadata": {},
   "source": [
    "# Colabaorative Function"
   ]
  },
  {
   "cell_type": "code",
   "execution_count": 67,
   "id": "89940c21",
   "metadata": {},
   "outputs": [],
   "source": [
    "def find_similar_users(item_input,user_weights,user2user_encoded,user2user_decoded,n=10,return_dist = False,neg=False):\n",
    "    try:\n",
    "        index= item_input\n",
    "        encoded_index = user2user_encoded.get(index)\n",
    "\n",
    "        weights =user_weights\n",
    "        dists = np.dot(weights,weights[encoded_index])\n",
    "        sorted_dist = np.argsort(dists)\n",
    "\n",
    "        n=n+1\n",
    "\n",
    "        if neg:\n",
    "            closest =sorted_dist[:n]\n",
    "        else:\n",
    "            closest= sorted_dist[-n:]\n",
    "        \n",
    "        if return_dist:\n",
    "            return dists,closest\n",
    "        \n",
    "        SimilarityArr = []\n",
    "        for close in closest:\n",
    "            similarity =dists[close]\n",
    "\n",
    "            if isinstance(item_input,int):\n",
    "                decoded_id = user2user_decoded.get(close)\n",
    "                SimilarityArr.append(\n",
    "                    {\n",
    "                        \"similar_users\":decoded_id,\n",
    "                        \"similarity\": similarity\n",
    "                    }\n",
    "                )\n",
    "        similar_users =pd.DataFrame(SimilarityArr).sort_values(by=\"similarity\",ascending=False)\n",
    "        similar_users = similar_users[similar_users.similar_users != item_input]\n",
    "        return similar_users\n",
    "\n",
    "    except Exception as e:\n",
    "        print(\"Error\",e)"
   ]
  },
  {
   "cell_type": "code",
   "execution_count": 68,
   "id": "4f34668f",
   "metadata": {},
   "outputs": [
    {
     "data": {
      "text/html": [
       "<div>\n",
       "<style scoped>\n",
       "    .dataframe tbody tr th:only-of-type {\n",
       "        vertical-align: middle;\n",
       "    }\n",
       "\n",
       "    .dataframe tbody tr th {\n",
       "        vertical-align: top;\n",
       "    }\n",
       "\n",
       "    .dataframe thead th {\n",
       "        text-align: right;\n",
       "    }\n",
       "</style>\n",
       "<table border=\"1\" class=\"dataframe\">\n",
       "  <thead>\n",
       "    <tr style=\"text-align: right;\">\n",
       "      <th></th>\n",
       "      <th>similar_users</th>\n",
       "      <th>similarity</th>\n",
       "    </tr>\n",
       "  </thead>\n",
       "  <tbody>\n",
       "    <tr>\n",
       "      <th>9</th>\n",
       "      <td>1697</td>\n",
       "      <td>0.325747</td>\n",
       "    </tr>\n",
       "    <tr>\n",
       "      <th>8</th>\n",
       "      <td>6252</td>\n",
       "      <td>0.325059</td>\n",
       "    </tr>\n",
       "    <tr>\n",
       "      <th>7</th>\n",
       "      <td>12696</td>\n",
       "      <td>0.300443</td>\n",
       "    </tr>\n",
       "    <tr>\n",
       "      <th>6</th>\n",
       "      <td>925</td>\n",
       "      <td>0.292468</td>\n",
       "    </tr>\n",
       "    <tr>\n",
       "      <th>5</th>\n",
       "      <td>5128</td>\n",
       "      <td>0.291497</td>\n",
       "    </tr>\n",
       "    <tr>\n",
       "      <th>4</th>\n",
       "      <td>7348</td>\n",
       "      <td>0.289584</td>\n",
       "    </tr>\n",
       "    <tr>\n",
       "      <th>3</th>\n",
       "      <td>10321</td>\n",
       "      <td>0.282889</td>\n",
       "    </tr>\n",
       "    <tr>\n",
       "      <th>2</th>\n",
       "      <td>13334</td>\n",
       "      <td>0.269485</td>\n",
       "    </tr>\n",
       "    <tr>\n",
       "      <th>1</th>\n",
       "      <td>13241</td>\n",
       "      <td>0.267983</td>\n",
       "    </tr>\n",
       "    <tr>\n",
       "      <th>0</th>\n",
       "      <td>14126</td>\n",
       "      <td>0.267931</td>\n",
       "    </tr>\n",
       "  </tbody>\n",
       "</table>\n",
       "</div>"
      ],
      "text/plain": [
       "   similar_users  similarity\n",
       "9           1697    0.325747\n",
       "8           6252    0.325059\n",
       "7          12696    0.300443\n",
       "6            925    0.292468\n",
       "5           5128    0.291497\n",
       "4           7348    0.289584\n",
       "3          10321    0.282889\n",
       "2          13334    0.269485\n",
       "1          13241    0.267983\n",
       "0          14126    0.267931"
      ]
     },
     "execution_count": 68,
     "metadata": {},
     "output_type": "execute_result"
    }
   ],
   "source": [
    "find_similar_users(int(11800),user_weights,user2user_encoded,user2user_decoded)"
   ]
  },
  {
   "cell_type": "code",
   "execution_count": 69,
   "id": "b96d7502",
   "metadata": {},
   "outputs": [],
   "source": [
    "def showWordCloud(all_genres):\n",
    "    genres_cloud = WordCloud(width=700,height =400,background_color='white',colormap='gnuplot').generate_from_frequencies(all_genres)\n",
    "    plt.figure(figsize=(10,8))\n",
    "    plt.imshow(genres_cloud,interpolation='bilinear')\n",
    "    plt.axis('off')\n",
    "    plt.show()"
   ]
  },
  {
   "cell_type": "code",
   "execution_count": 70,
   "id": "68342c37",
   "metadata": {},
   "outputs": [],
   "source": [
    "from collections import defaultdict\n",
    "def getFavGenre(frame,plot=False):\n",
    "    frame.dropna(inplace=False)\n",
    "    all_genres = defaultdict(int)\n",
    "\n",
    "    genres_list=[]\n",
    "\n",
    "    for genres in frame['Genres']:\n",
    "        if isinstance(genres,str):\n",
    "            for genre in genres.split(','):\n",
    "                genres_list.append(genre)\n",
    "                all_genres[genre.strip()]+=1\n",
    "    if plot:\n",
    "        showWordCloud(all_genres)\n",
    "    return genres_list"
   ]
  },
  {
   "cell_type": "code",
   "execution_count": 71,
   "id": "4516db8d",
   "metadata": {},
   "outputs": [],
   "source": [
    "def get_user_prefrence(user_id,rating_df,df,plot=False):\n",
    "    animes_watched_by_user = rating_df[rating_df.user_id == user_id]\n",
    "    if animes_watched_by_user.empty:\n",
    "        print(f\"No ratings found for user {user_id}\")\n",
    "        return pd.DataFrame(columns=[\"eng_version\", \"Genres\"])\n",
    "\n",
    "    user_rating_percentile =np.percentile(animes_watched_by_user.rating,75)\n",
    "\n",
    "    animes_watched_by_user = animes_watched_by_user[animes_watched_by_user.rating >=user_rating_percentile]\n",
    "\n",
    "    top_animes_by_user = (\n",
    "        animes_watched_by_user.sort_values(by=\"rating\",ascending=False).anime_id.values\n",
    "    )\n",
    "    anime_df_rows = df[df[\"anime_id\"].isin(top_animes_by_user)]\n",
    "    anime_df_rows = anime_df_rows[['eng_version',\"Genres\"]]\n",
    "\n",
    "    if plot:\n",
    "        getFavGenre(anime_df_rows,plot)\n",
    "    return anime_df_rows\n"
   ]
  },
  {
   "cell_type": "code",
   "execution_count": 72,
   "id": "08836d0a",
   "metadata": {},
   "outputs": [
    {
     "data": {
      "image/png": "[encoded data removed]",
      "text/plain": [
       "<Figure size 1000x800 with 1 Axes>"
      ]
     },
     "metadata": {},
     "output_type": "display_data"
    },
    {
     "data": {
      "text/html": [
       "<div>\n",
       "<style scoped>\n",
       "    .dataframe tbody tr th:only-of-type {\n",
       "        vertical-align: middle;\n",
       "    }\n",
       "\n",
       "    .dataframe tbody tr th {\n",
       "        vertical-align: top;\n",
       "    }\n",
       "\n",
       "    .dataframe thead th {\n",
       "        text-align: right;\n",
       "    }\n",
       "</style>\n",
       "<table border=\"1\" class=\"dataframe\">\n",
       "  <thead>\n",
       "    <tr style=\"text-align: right;\">\n",
       "      <th></th>\n",
       "      <th>eng_version</th>\n",
       "      <th>Genres</th>\n",
       "    </tr>\n",
       "  </thead>\n",
       "  <tbody>\n",
       "    <tr>\n",
       "      <th>3971</th>\n",
       "      <td>Fullmetal Alchemist:Brotherhood</td>\n",
       "      <td>Action, Military, Adventure, Comedy, Drama, Magic, Fantasy, Shounen</td>\n",
       "    </tr>\n",
       "    <tr>\n",
       "      <th>9913</th>\n",
       "      <td>Gintama Season 4</td>\n",
       "      <td>Action, Comedy, Historical, Parody, Samurai, Sci-Fi, Shounen</td>\n",
       "    </tr>\n",
       "    <tr>\n",
       "      <th>6474</th>\n",
       "      <td>Hunter x Hunter</td>\n",
       "      <td>Action, Adventure, Fantasy, Shounen, Super Power</td>\n",
       "    </tr>\n",
       "    <tr>\n",
       "      <th>6006</th>\n",
       "      <td>Gintama Season 2</td>\n",
       "      <td>Action, Sci-Fi, Comedy, Historical, Parody, Samurai, Shounen</td>\n",
       "    </tr>\n",
       "    <tr>\n",
       "      <th>741</th>\n",
       "      <td>Legend of the Galactic Heroes</td>\n",
       "      <td>Military, Sci-Fi, Space, Drama</td>\n",
       "    </tr>\n",
       "    <tr>\n",
       "      <th>...</th>\n",
       "      <td>...</td>\n",
       "      <td>...</td>\n",
       "    </tr>\n",
       "    <tr>\n",
       "      <th>2575</th>\n",
       "      <td>Shootfighter Tekken</td>\n",
       "      <td>Action, Martial Arts, Shounen</td>\n",
       "    </tr>\n",
       "    <tr>\n",
       "      <th>8064</th>\n",
       "      <td>Samurai Flamenco</td>\n",
       "      <td>Action, Comedy, Parody, Super Power</td>\n",
       "    </tr>\n",
       "    <tr>\n",
       "      <th>510</th>\n",
       "      <td>Venus Wars</td>\n",
       "      <td>Action, Sci-Fi, Adventure, Space</td>\n",
       "    </tr>\n",
       "    <tr>\n",
       "      <th>6864</th>\n",
       "      <td>Saint Seiya Omega</td>\n",
       "      <td>Action, Adventure, Fantasy, Shounen</td>\n",
       "    </tr>\n",
       "    <tr>\n",
       "      <th>9796</th>\n",
       "      <td>Garo:Crimson Moon</td>\n",
       "      <td>Action, Demons, Fantasy, Magic, Supernatural</td>\n",
       "    </tr>\n",
       "  </tbody>\n",
       "</table>\n",
       "<p>190 rows × 2 columns</p>\n",
       "</div>"
      ],
      "text/plain": [
       "                          eng_version  \\\n",
       "3971  Fullmetal Alchemist:Brotherhood   \n",
       "9913                 Gintama Season 4   \n",
       "6474                  Hunter x Hunter   \n",
       "6006                 Gintama Season 2   \n",
       "741     Legend of the Galactic Heroes   \n",
       "...                               ...   \n",
       "2575              Shootfighter Tekken   \n",
       "8064                 Samurai Flamenco   \n",
       "510                        Venus Wars   \n",
       "6864                Saint Seiya Omega   \n",
       "9796                Garo:Crimson Moon   \n",
       "\n",
       "                                                                   Genres  \n",
       "3971  Action, Military, Adventure, Comedy, Drama, Magic, Fantasy, Shounen  \n",
       "9913         Action, Comedy, Historical, Parody, Samurai, Sci-Fi, Shounen  \n",
       "6474                     Action, Adventure, Fantasy, Shounen, Super Power  \n",
       "6006         Action, Sci-Fi, Comedy, Historical, Parody, Samurai, Shounen  \n",
       "741                                        Military, Sci-Fi, Space, Drama  \n",
       "...                                                                   ...  \n",
       "2575                                        Action, Martial Arts, Shounen  \n",
       "8064                                  Action, Comedy, Parody, Super Power  \n",
       "510                                      Action, Sci-Fi, Adventure, Space  \n",
       "6864                                  Action, Adventure, Fantasy, Shounen  \n",
       "9796                         Action, Demons, Fantasy, Magic, Supernatural  \n",
       "\n",
       "[190 rows x 2 columns]"
      ]
     },
     "execution_count": 72,
     "metadata": {},
     "output_type": "execute_result"
    }
   ],
   "source": [
    "get_user_prefrence(11880,rating_df,df,plot=True)"
   ]
  },
  {
   "cell_type": "code",
   "execution_count": 73,
   "id": "4cd887a7",
   "metadata": {},
   "outputs": [
    {
     "data": {
      "text/html": [
       "<div>\n",
       "<style scoped>\n",
       "    .dataframe tbody tr th:only-of-type {\n",
       "        vertical-align: middle;\n",
       "    }\n",
       "\n",
       "    .dataframe tbody tr th {\n",
       "        vertical-align: top;\n",
       "    }\n",
       "\n",
       "    .dataframe thead th {\n",
       "        text-align: right;\n",
       "    }\n",
       "</style>\n",
       "<table border=\"1\" class=\"dataframe\">\n",
       "  <thead>\n",
       "    <tr style=\"text-align: right;\">\n",
       "      <th></th>\n",
       "      <th>similar_users</th>\n",
       "      <th>similarity</th>\n",
       "    </tr>\n",
       "  </thead>\n",
       "  <tbody>\n",
       "    <tr>\n",
       "      <th>9</th>\n",
       "      <td>1697</td>\n",
       "      <td>0.325747</td>\n",
       "    </tr>\n",
       "    <tr>\n",
       "      <th>8</th>\n",
       "      <td>6252</td>\n",
       "      <td>0.325059</td>\n",
       "    </tr>\n",
       "    <tr>\n",
       "      <th>7</th>\n",
       "      <td>12696</td>\n",
       "      <td>0.300443</td>\n",
       "    </tr>\n",
       "    <tr>\n",
       "      <th>6</th>\n",
       "      <td>925</td>\n",
       "      <td>0.292468</td>\n",
       "    </tr>\n",
       "    <tr>\n",
       "      <th>5</th>\n",
       "      <td>5128</td>\n",
       "      <td>0.291497</td>\n",
       "    </tr>\n",
       "    <tr>\n",
       "      <th>4</th>\n",
       "      <td>7348</td>\n",
       "      <td>0.289584</td>\n",
       "    </tr>\n",
       "    <tr>\n",
       "      <th>3</th>\n",
       "      <td>10321</td>\n",
       "      <td>0.282889</td>\n",
       "    </tr>\n",
       "    <tr>\n",
       "      <th>2</th>\n",
       "      <td>13334</td>\n",
       "      <td>0.269485</td>\n",
       "    </tr>\n",
       "    <tr>\n",
       "      <th>1</th>\n",
       "      <td>13241</td>\n",
       "      <td>0.267983</td>\n",
       "    </tr>\n",
       "    <tr>\n",
       "      <th>0</th>\n",
       "      <td>14126</td>\n",
       "      <td>0.267931</td>\n",
       "    </tr>\n",
       "  </tbody>\n",
       "</table>\n",
       "</div>"
      ],
      "text/plain": [
       "   similar_users  similarity\n",
       "9           1697    0.325747\n",
       "8           6252    0.325059\n",
       "7          12696    0.300443\n",
       "6            925    0.292468\n",
       "5           5128    0.291497\n",
       "4           7348    0.289584\n",
       "3          10321    0.282889\n",
       "2          13334    0.269485\n",
       "1          13241    0.267983\n",
       "0          14126    0.267931"
      ]
     },
     "execution_count": 73,
     "metadata": {},
     "output_type": "execute_result"
    }
   ],
   "source": [
    "find_similar_users(int(11800),user_weights,user2user_encoded,user2user_decoded)"
   ]
  },
  {
   "cell_type": "code",
   "execution_count": 74,
   "id": "e51b9681",
   "metadata": {},
   "outputs": [],
   "source": [
    "def get_user_recommendation(similar_users,user_pref,df,sypnopsis_df,rating_df,n=10):\n",
    "    recommended_animes = []\n",
    "    anime_list= []\n",
    "\n",
    "    for user_id in similar_users.similar_users.values:\n",
    "        pref_list=get_user_prefrence(int(user_id),rating_df,df)\n",
    "\n",
    "        pref_list=pref_list[~pref_list.eng_version.isin(user_pref.eng_version.values)]\n",
    "        if not pref_list.empty:\n",
    "            anime_list.append(pref_list.eng_version.values)\n",
    "\n",
    "    if anime_list:\n",
    "        anime_list = pd.DataFrame(anime_list)\n",
    "\n",
    "        sorted_list=pd.DataFrame(pd.Series(anime_list.values.ravel()).value_counts()).head(n)\n",
    "\n",
    "        for i,anime_name in enumerate(sorted_list.index):\n",
    "            n_user_pref =sorted_list[sorted_list.index == anime_name].values[0][0]\n",
    "\n",
    "            if isinstance(anime_name,str):\n",
    "                frame =getAnimeFrame(anime_name,df)\n",
    "                anime_id= frame.anime_id.values[0]\n",
    "                genre = frame.Genres.values[0]\n",
    "                synopsis = getSynopsis(int(anime_id),sypnopsis_df)\n",
    "                \n",
    "                recommended_animes.append(\n",
    "                    {\n",
    "                        \"n\":n_user_pref,\n",
    "                        \"anime_name\":anime_name,\n",
    "                        \"Genre\":genre,\n",
    "                        \"Synopsis\":synopsis\n",
    "                        \n",
    "                    }\n",
    "                )\n",
    "    return pd.DataFrame(recommended_animes).head(n)\n",
    "        "
   ]
  },
  {
   "cell_type": "code",
   "execution_count": 82,
   "id": "d546df2d",
   "metadata": {},
   "outputs": [
    {
     "name": "stdout",
     "output_type": "stream",
     "text": [
      "Error shapes (4203,128) and (1,4203,128) not aligned: 128 (dim 1) != 4203 (dim 1)\n"
     ]
    }
   ],
   "source": [
    "similar_users = find_similar_users(int(11883),user_weights,user2user_encoded,user2user_decoded)"
   ]
  },
  {
   "cell_type": "code",
   "execution_count": 83,
   "id": "f8d1becc",
   "metadata": {},
   "outputs": [],
   "source": [
    "similar_users"
   ]
  },
  {
   "cell_type": "code",
   "execution_count": 76,
   "id": "845a9492",
   "metadata": {},
   "outputs": [],
   "source": [
    "user_pref = get_user_prefrence(11880,rating_df,df)"
   ]
  },
  {
   "cell_type": "code",
   "execution_count": 77,
   "id": "c7181ecb",
   "metadata": {},
   "outputs": [
    {
     "data": {
      "text/html": [
       "<div>\n",
       "<style scoped>\n",
       "    .dataframe tbody tr th:only-of-type {\n",
       "        vertical-align: middle;\n",
       "    }\n",
       "\n",
       "    .dataframe tbody tr th {\n",
       "        vertical-align: top;\n",
       "    }\n",
       "\n",
       "    .dataframe thead th {\n",
       "        text-align: right;\n",
       "    }\n",
       "</style>\n",
       "<table border=\"1\" class=\"dataframe\">\n",
       "  <thead>\n",
       "    <tr style=\"text-align: right;\">\n",
       "      <th></th>\n",
       "      <th>n</th>\n",
       "      <th>anime_name</th>\n",
       "      <th>Genre</th>\n",
       "      <th>Synopsis</th>\n",
       "    </tr>\n",
       "  </thead>\n",
       "  <tbody>\n",
       "    <tr>\n",
       "      <th>0</th>\n",
       "      <td>9</td>\n",
       "      <td>Spirited Away</td>\n",
       "      <td>Adventure, Supernatural, Drama</td>\n",
       "      <td>Stubborn, spoiled, and naïve, 10-year-old Chihiro Ogino is less than pleased when she and her parents discover an abandoned amusement park on the way to their new house. Cautiously venturing inside, she realizes that there is more to this place than meets the eye, as strange things begin to happen once dusk falls. Ghostly apparitions and food that turns her parents into pigs are just the start—Chihiro has unwittingly crossed over into the spirit world. Now trapped, she must summon the courage to live and work amongst spirits, with the help of the enigmatic Haku and the cast of unique characters she meets along the way. Vivid and intriguing, Sen to Chihiro no Kamikakushi tells the story of Chihiro's journey through an unfamiliar world as she strives to save her parents and return home.</td>\n",
       "    </tr>\n",
       "    <tr>\n",
       "      <th>1</th>\n",
       "      <td>8</td>\n",
       "      <td>Attack on Titan</td>\n",
       "      <td>Action, Military, Mystery, Super Power, Drama, Fantasy, Shounen</td>\n",
       "      <td>Centuries ago, mankind was slaughtered to near extinction by monstrous humanoid creatures called titans, forcing humans to hide in fear behind enormous concentric walls. What makes these giants truly terrifying is that their taste for human flesh is not born out of hunger but what appears to be out of pleasure. To ensure their survival, the remnants of humanity began living within defensive barriers, resulting in one hundred years without a single titan encounter. However, that fragile calm is soon shattered when a colossal titan manages to breach the supposedly impregnable outer wall, reigniting the fight for survival against the man-eating abominations. After witnessing a horrific personal loss at the hands of the invading creatures, Eren Yeager dedicates his life to their eradication by enlisting into the Survey Corps, an elite military unit that combats the merciless humanoids outside the protection of the walls. Based on Hajime Isayama's award-winning manga, Shingeki no Kyojin follows Eren, along with his adopted sister Mikasa Ackerman and his childhood friend Armin Arlert, as they join the brutal war against the titans and race to discover a way of defeating them before the last walls are breached.</td>\n",
       "    </tr>\n",
       "    <tr>\n",
       "      <th>2</th>\n",
       "      <td>8</td>\n",
       "      <td>The Devil is a Part-Timer!</td>\n",
       "      <td>Comedy, Demons, Supernatural, Romance, Fantasy</td>\n",
       "      <td>Striking fear into the hearts of mortals, the Demon Lord Satan begins to conquer the land of Ente Isla with his vast demon armies. However, while embarking on this brutal quest to take over the continent, his efforts are foiled by the hero Emilia, forcing Satan to make his swift retreat through a dimensional portal only to land in the human world. Along with his loyal general Alsiel, the demon finds himself stranded in modern-day Tokyo and vows to return and complete his subjugation of Ente Isla—that is, if they can find a way back! Powerless in a world without magic, Satan assumes the guise of a human named Sadao Maou and begins working at MgRonald's—a local fast-food restaurant—to make ends meet. He soon realizes that his goal of conquering Ente Isla is just not enough as he grows determined to climb the corporate ladder and become the ruler of Earth, one satisfied customer at a time! Whether it's part-time work, household chores, or simply trying to pay the rent on time, Hataraku Maou-sama! presents a hilarious view of the most mundane aspects of everyday life, all through the eyes of a hapless demon lord.</td>\n",
       "    </tr>\n",
       "    <tr>\n",
       "      <th>3</th>\n",
       "      <td>8</td>\n",
       "      <td>No Game, No Life</td>\n",
       "      <td>Game, Adventure, Comedy, Supernatural, Ecchi, Fantasy</td>\n",
       "      <td>No Game No Life is a surreal comedy that follows Sora and Shiro, shut-in NEET siblings and the online gamer duo behind the legendary username \"Blank.\" They view the real world as just another lousy game; however, a strange e-mail challenging them to a chess match changes everything—the brother and sister are plunged into an otherworldly realm where they meet Tet, the God of Games. The mysterious god welcomes Sora and Shiro to Disboard, a world where all forms of conflict—from petty squabbles to the fate of whole countries—are settled not through war, but by way of high-stake games. This system works thanks to a fundamental rule wherein each party must wager something they deem to be of equal value to the other party's wager. In this strange land where the very idea of humanity is reduced to child's play, the indifferent genius gamer duo of Sora and Shiro have finally found a real reason to keep playing games: to unite the sixteen races of Disboard, defeat Tet, and become the gods of this new, gaming-is-everything world.</td>\n",
       "    </tr>\n",
       "    <tr>\n",
       "      <th>4</th>\n",
       "      <td>8</td>\n",
       "      <td>Angel Beats!</td>\n",
       "      <td>Action, Comedy, Drama, School, Supernatural</td>\n",
       "      <td>Otonashi awakens only to learn he is dead. A rifle-toting girl named Yuri explains that they are in the afterlife, and Otonashi realizes the only thing he can remember about himself is his name. Yuri tells him that she leads the Shinda Sekai Sensen (Afterlife Battlefront) and wages war against a girl named Tenshi. Unable to believe Yuri's claims that Tenshi is evil, Otonashi attempts to speak with her, but the encounter doesn't go as he intended. Otonashi decides to join the SSS and battle Tenshi, but he finds himself oddly drawn to her. While trying to regain his memories and understand Tenshi, he gradually unravels the mysteries of the afterlife.</td>\n",
       "    </tr>\n",
       "    <tr>\n",
       "      <th>5</th>\n",
       "      <td>8</td>\n",
       "      <td>Nisekoi:False Love</td>\n",
       "      <td>Harem, Comedy, Romance, School, Shounen</td>\n",
       "      <td>aku Ichijou, a first-year student at Bonyari High School, is the sole heir to an intimidating yakuza family. Ten years ago, Raku made a promise to his childhood friend. Now, all he has to go on is a pendant with a lock, which can only be unlocked with the key which the girl took with her when they parted. Now, years later, Raku has grown into a typical teenager, and all he wants is to remain as uninvolved in his yakuza background as possible while spending his school days alongside his middle school crush Kosaki Onodera. However, when the American Bee Hive Gang invades his family's turf, Raku's idyllic romantic dreams are sent for a toss as he is dragged into a frustrating conflict: Raku is to pretend that he is in a romantic relationship with Chitoge Kirisaki, the beautiful daughter of the Bee Hive's chief, so as to reduce the friction between the two groups. Unfortunately, reality could not be farther from this whopping lie—Raku and Chitoge fall in hate at first sight, as the girl is convinced he is a pathetic pushover, and in Raku's eyes, Chitoge is about as attractive as a savage gorilla. Nisekoi follows the daily antics of this mismatched couple who have been forced to get along for the sake of maintaining the city's peace. With many more girls popping up his life, all involved with Raku's past somehow, his search for the girl who holds his heart and his promise leads him in more unexpected directions than he expects.</td>\n",
       "    </tr>\n",
       "    <tr>\n",
       "      <th>6</th>\n",
       "      <td>7</td>\n",
       "      <td>Log Horizon</td>\n",
       "      <td>Action, Game, Adventure, Magic, Fantasy</td>\n",
       "      <td>In the blink of an eye, thirty thousand bewildered Japanese gamers are whisked from their everyday lives into the world of the popular MMORPG, Elder Tale, after the game's latest update—unable to log out. Among them is the socially awkward college student Shiroe, whose confusion and shock lasts only a moment as, a veteran of the game, he immediately sets out to explore the limits of his new reality. Shiroe must learn to live in this new world, leading others and negotiating with the NPC \"natives\" in order to bring stability to the virtual city of Akihabara. He is joined by his unfortunate friend Naotsugu, having logged in for the first time in years only to find himself trapped, and Akatsuki, a petite but fierce assassin who labels Shiroe as her master. A tale of fantasy, adventure, and politics, Log Horizon explores the elements of gaming through the eyes of a master strategist who attempts to make the best of a puzzling situation.</td>\n",
       "    </tr>\n",
       "    <tr>\n",
       "      <th>7</th>\n",
       "      <td>7</td>\n",
       "      <td>Digimon:The Movie</td>\n",
       "      <td>Sci-Fi, Adventure, Comedy, Kids</td>\n",
       "      <td>This movie takes place after the Adventure series ends. It begins when a new Digimon Egg is found on the internet, and manages to penetrate into almost every computer system in Japan. When the egg hatches, it's identified as a new kind of Digimon, a Virus-type. It sustains itself by eating data from various system, and starts wreaking havok in Japan. As it consumes more and more data, it continues to evolve. And Taichi and Koushiro decide it's time to stop it. They're off, sending Agumon and Tentomon through the internet to fight off this new enemy. But, with the Virus controlling systems like the American military, all too soon, this digital menace may become all too real. Calling in the help of Yamato and Takeru, they hope that they can stop what's already begun, and maybe save this world a second time. (Source: AniDB)</td>\n",
       "    </tr>\n",
       "    <tr>\n",
       "      <th>8</th>\n",
       "      <td>7</td>\n",
       "      <td>My Hero Academia 3</td>\n",
       "      <td>Action, Comedy, Super Power, School, Shounen</td>\n",
       "      <td>s summer arrives for the students at UA Academy, each of these superheroes-in-training puts in their best efforts to become renowned heroes. They head off to a forest training camp run by UA's pro heroes, where the students face one another in battle and go through dangerous tests, improving their abilities and pushing past their limits. However, their school trip is suddenly turned upside down when the League of Villains arrives, invading the camp with a mission to capture one of the students. Boku no Hero Academia 3rd Season follows Izuku \"Deku\" Midoriya, an ambitious student training to achieve his dream of becoming a hero similar to his role model—All Might. Being one of the students caught up amidst the chaos of the villain attack, Deku must take a stand with his classmates and fight for their survival.</td>\n",
       "    </tr>\n",
       "    <tr>\n",
       "      <th>9</th>\n",
       "      <td>7</td>\n",
       "      <td>Overlord</td>\n",
       "      <td>Action, Adventure, Fantasy, Game, Magic, Supernatural</td>\n",
       "      <td>The final hour of the popular virtual reality game Yggdrasil has come. However, Momonga, a powerful wizard and master of the dark guild Ainz Ooal Gown, decides to spend his last few moments in the game as the servers begin to shut down. To his surprise, despite the clock having struck midnight, Momonga is still fully conscious as his character and, moreover, the non-player characters appear to have developed personalities of their own! Confronted with this abnormal situation, Momonga commands his loyal servants to help him investigate and take control of this new world, with the hopes of figuring out what has caused this development and if there may be others in the same predicament.</td>\n",
       "    </tr>\n",
       "  </tbody>\n",
       "</table>\n",
       "</div>"
      ],
      "text/plain": [
       "   n                  anime_name  \\\n",
       "0  9               Spirited Away   \n",
       "1  8             Attack on Titan   \n",
       "2  8  The Devil is a Part-Timer!   \n",
       "3  8            No Game, No Life   \n",
       "4  8                Angel Beats!   \n",
       "5  8          Nisekoi:False Love   \n",
       "6  7                 Log Horizon   \n",
       "7  7           Digimon:The Movie   \n",
       "8  7          My Hero Academia 3   \n",
       "9  7                    Overlord   \n",
       "\n",
       "                                                             Genre  \\\n",
       "0                                   Adventure, Supernatural, Drama   \n",
       "1  Action, Military, Mystery, Super Power, Drama, Fantasy, Shounen   \n",
       "2                   Comedy, Demons, Supernatural, Romance, Fantasy   \n",
       "3            Game, Adventure, Comedy, Supernatural, Ecchi, Fantasy   \n",
       "4                      Action, Comedy, Drama, School, Supernatural   \n",
       "5                          Harem, Comedy, Romance, School, Shounen   \n",
       "6                          Action, Game, Adventure, Magic, Fantasy   \n",
       "7                                  Sci-Fi, Adventure, Comedy, Kids   \n",
       "8                     Action, Comedy, Super Power, School, Shounen   \n",
       "9            Action, Adventure, Fantasy, Game, Magic, Supernatural   \n",
       "\n",
       "                                                                                                                                                                                                                                                                                                                                                                                                                                                                                                                                                                                                                                                                                                                                                                                                                                                                                                                                                                                                                                                                                                                                                                                                                                                                                                                                                                                                                                                                                                 Synopsis  \n",
       "0                                                                                                                                                                                                                                                                                                                                                                                                                                                                                                                                                                                                                                                                             Stubborn, spoiled, and naïve, 10-year-old Chihiro Ogino is less than pleased when she and her parents discover an abandoned amusement park on the way to their new house. Cautiously venturing inside, she realizes that there is more to this place than meets the eye, as strange things begin to happen once dusk falls. Ghostly apparitions and food that turns her parents into pigs are just the start—Chihiro has unwittingly crossed over into the spirit world. Now trapped, she must summon the courage to live and work amongst spirits, with the help of the enigmatic Haku and the cast of unique characters she meets along the way. Vivid and intriguing, Sen to Chihiro no Kamikakushi tells the story of Chihiro's journey through an unfamiliar world as she strives to save her parents and return home.  \n",
       "1                                                                                                                                                                                                                                 Centuries ago, mankind was slaughtered to near extinction by monstrous humanoid creatures called titans, forcing humans to hide in fear behind enormous concentric walls. What makes these giants truly terrifying is that their taste for human flesh is not born out of hunger but what appears to be out of pleasure. To ensure their survival, the remnants of humanity began living within defensive barriers, resulting in one hundred years without a single titan encounter. However, that fragile calm is soon shattered when a colossal titan manages to breach the supposedly impregnable outer wall, reigniting the fight for survival against the man-eating abominations. After witnessing a horrific personal loss at the hands of the invading creatures, Eren Yeager dedicates his life to their eradication by enlisting into the Survey Corps, an elite military unit that combats the merciless humanoids outside the protection of the walls. Based on Hajime Isayama's award-winning manga, Shingeki no Kyojin follows Eren, along with his adopted sister Mikasa Ackerman and his childhood friend Armin Arlert, as they join the brutal war against the titans and race to discover a way of defeating them before the last walls are breached.  \n",
       "2                                                                                                                                                                                                                                                                                                                                  Striking fear into the hearts of mortals, the Demon Lord Satan begins to conquer the land of Ente Isla with his vast demon armies. However, while embarking on this brutal quest to take over the continent, his efforts are foiled by the hero Emilia, forcing Satan to make his swift retreat through a dimensional portal only to land in the human world. Along with his loyal general Alsiel, the demon finds himself stranded in modern-day Tokyo and vows to return and complete his subjugation of Ente Isla—that is, if they can find a way back! Powerless in a world without magic, Satan assumes the guise of a human named Sadao Maou and begins working at MgRonald's—a local fast-food restaurant—to make ends meet. He soon realizes that his goal of conquering Ente Isla is just not enough as he grows determined to climb the corporate ladder and become the ruler of Earth, one satisfied customer at a time! Whether it's part-time work, household chores, or simply trying to pay the rent on time, Hataraku Maou-sama! presents a hilarious view of the most mundane aspects of everyday life, all through the eyes of a hapless demon lord.  \n",
       "3                                                                                                                                                                                                                                                                                                                                                                                                                             No Game No Life is a surreal comedy that follows Sora and Shiro, shut-in NEET siblings and the online gamer duo behind the legendary username \"Blank.\" They view the real world as just another lousy game; however, a strange e-mail challenging them to a chess match changes everything—the brother and sister are plunged into an otherworldly realm where they meet Tet, the God of Games. The mysterious god welcomes Sora and Shiro to Disboard, a world where all forms of conflict—from petty squabbles to the fate of whole countries—are settled not through war, but by way of high-stake games. This system works thanks to a fundamental rule wherein each party must wager something they deem to be of equal value to the other party's wager. In this strange land where the very idea of humanity is reduced to child's play, the indifferent genius gamer duo of Sora and Shiro have finally found a real reason to keep playing games: to unite the sixteen races of Disboard, defeat Tet, and become the gods of this new, gaming-is-everything world.  \n",
       "4                                                                                                                                                                                                                                                                                                                                                                                                                                                                                                                                                                                                                                                                                                                                                                                                                        Otonashi awakens only to learn he is dead. A rifle-toting girl named Yuri explains that they are in the afterlife, and Otonashi realizes the only thing he can remember about himself is his name. Yuri tells him that she leads the Shinda Sekai Sensen (Afterlife Battlefront) and wages war against a girl named Tenshi. Unable to believe Yuri's claims that Tenshi is evil, Otonashi attempts to speak with her, but the encounter doesn't go as he intended. Otonashi decides to join the SSS and battle Tenshi, but he finds himself oddly drawn to her. While trying to regain his memories and understand Tenshi, he gradually unravels the mysteries of the afterlife.  \n",
       "5  aku Ichijou, a first-year student at Bonyari High School, is the sole heir to an intimidating yakuza family. Ten years ago, Raku made a promise to his childhood friend. Now, all he has to go on is a pendant with a lock, which can only be unlocked with the key which the girl took with her when they parted. Now, years later, Raku has grown into a typical teenager, and all he wants is to remain as uninvolved in his yakuza background as possible while spending his school days alongside his middle school crush Kosaki Onodera. However, when the American Bee Hive Gang invades his family's turf, Raku's idyllic romantic dreams are sent for a toss as he is dragged into a frustrating conflict: Raku is to pretend that he is in a romantic relationship with Chitoge Kirisaki, the beautiful daughter of the Bee Hive's chief, so as to reduce the friction between the two groups. Unfortunately, reality could not be farther from this whopping lie—Raku and Chitoge fall in hate at first sight, as the girl is convinced he is a pathetic pushover, and in Raku's eyes, Chitoge is about as attractive as a savage gorilla. Nisekoi follows the daily antics of this mismatched couple who have been forced to get along for the sake of maintaining the city's peace. With many more girls popping up his life, all involved with Raku's past somehow, his search for the girl who holds his heart and his promise leads him in more unexpected directions than he expects.  \n",
       "6                                                                                                                                                                                                                                                                                                                                                                                                                                                                                                                      In the blink of an eye, thirty thousand bewildered Japanese gamers are whisked from their everyday lives into the world of the popular MMORPG, Elder Tale, after the game's latest update—unable to log out. Among them is the socially awkward college student Shiroe, whose confusion and shock lasts only a moment as, a veteran of the game, he immediately sets out to explore the limits of his new reality. Shiroe must learn to live in this new world, leading others and negotiating with the NPC \"natives\" in order to bring stability to the virtual city of Akihabara. He is joined by his unfortunate friend Naotsugu, having logged in for the first time in years only to find himself trapped, and Akatsuki, a petite but fierce assassin who labels Shiroe as her master. A tale of fantasy, adventure, and politics, Log Horizon explores the elements of gaming through the eyes of a master strategist who attempts to make the best of a puzzling situation.  \n",
       "7                                                                                                                                                                                                                                                                                                                                                                                                                                                                                                                                                                                                                                        This movie takes place after the Adventure series ends. It begins when a new Digimon Egg is found on the internet, and manages to penetrate into almost every computer system in Japan. When the egg hatches, it's identified as a new kind of Digimon, a Virus-type. It sustains itself by eating data from various system, and starts wreaking havok in Japan. As it consumes more and more data, it continues to evolve. And Taichi and Koushiro decide it's time to stop it. They're off, sending Agumon and Tentomon through the internet to fight off this new enemy. But, with the Virus controlling systems like the American military, all too soon, this digital menace may become all too real. Calling in the help of Yamato and Takeru, they hope that they can stop what's already begun, and maybe save this world a second time. (Source: AniDB)  \n",
       "8                                                                                                                                                                                                                                                                                                                                                                                                                                                                                                                                                                                                                                                     s summer arrives for the students at UA Academy, each of these superheroes-in-training puts in their best efforts to become renowned heroes. They head off to a forest training camp run by UA's pro heroes, where the students face one another in battle and go through dangerous tests, improving their abilities and pushing past their limits. However, their school trip is suddenly turned upside down when the League of Villains arrives, invading the camp with a mission to capture one of the students. Boku no Hero Academia 3rd Season follows Izuku \"Deku\" Midoriya, an ambitious student training to achieve his dream of becoming a hero similar to his role model—All Might. Being one of the students caught up amidst the chaos of the villain attack, Deku must take a stand with his classmates and fight for their survival.  \n",
       "9                                                                                                                                                                                                                                                                                                                                                                                                                                                                                                                                                                                                                                                                                                                                                                                    The final hour of the popular virtual reality game Yggdrasil has come. However, Momonga, a powerful wizard and master of the dark guild Ainz Ooal Gown, decides to spend his last few moments in the game as the servers begin to shut down. To his surprise, despite the clock having struck midnight, Momonga is still fully conscious as his character and, moreover, the non-player characters appear to have developed personalities of their own! Confronted with this abnormal situation, Momonga commands his loyal servants to help him investigate and take control of this new world, with the hopes of figuring out what has caused this development and if there may be others in the same predicament.  "
      ]
     },
     "execution_count": 77,
     "metadata": {},
     "output_type": "execute_result"
    }
   ],
   "source": [
    "get_user_recommendation(similar_users,user_pref,df,sypnopsis_df,rating_df)"
   ]
  },
  {
   "cell_type": "markdown",
   "id": "0a20f4bb",
   "metadata": {},
   "source": [
    "### Hybrid Recommender System"
   ]
  },
  {
   "cell_type": "code",
   "execution_count": 94,
   "id": "04bc7beb",
   "metadata": {},
   "outputs": [],
   "source": [
    "def hybrid_recommendation(user_id,user_weight = 0.5,content_weight = 0.5):\n",
    "\n",
    "    ## Collabarative filtering\n",
    "    similar_users = find_similar_users(user_id,user_weights,user2user_encoded,user2user_decoded)\n",
    "    user_pref = get_user_prefrence(user_id,rating_df,df)\n",
    "    user_recommended_anime_list = get_user_recommendation(similar_users,user_pref,df,sypnopsis_df,rating_df)\n",
    "\n",
    "\n",
    "    user_recommended_anime_list = user_recommended_anime_list[\"anime_name\"].to_list()\n",
    "    print(user_recommended_anime_list)\n",
    "    # content recommendation\n",
    "    content_recommendation_animes =[]\n",
    "    for anime in user_recommended_anime_list:\n",
    "        similar_animes = find_similar_animes(anime,anime_weights,anime2anime_encoded,anime2anime_decoded,df,sypnopsis_df)\n",
    "\n",
    "        if similar_animes is not None and not similar_animes.empty:\n",
    "            content_recommendation_animes.extend(similar_animes[\"name\"].tolist())\n",
    "        \n",
    "        else:\n",
    "            print(f\"No similar anime found{anime}\")\n",
    "    \n",
    "    combined_scores ={}\n",
    "\n",
    "    for anime in user_recommended_anime_list:\n",
    "        combined_scores[anime] = combined_scores.get(anime,0)+user_weight\n",
    "    \n",
    "    for anime in content_recommendation_animes:\n",
    "        combined_scores[anime]= combined_scores.get(anime,0) + content_weight\n",
    "\n",
    "    sorted_animes = sorted(combined_scores.items(),key=lambda x:x[1],reverse=True)\n",
    "    return [anime for anime,score in sorted_animes[:10]]"
   ]
  },
  {
   "cell_type": "code",
   "execution_count": 95,
   "id": "53aff14e",
   "metadata": {},
   "outputs": [
    {
     "name": "stdout",
     "output_type": "stream",
     "text": [
      "['Spirited Away', 'No Game, No Life', 'Death Note', 'One Piece', 'Toradora!', \"Howl's Moving Castle\", 'Code Geass:Lelouch of the Rebellion R2', 'Time of Eve', 'The Pet Girl of Sakurasou', 'The World God Only Knows II']\n",
      "Anime closest to Spirited Away\n",
      "Anime closest to No Game, No Life\n",
      "Anime closest to Death Note\n",
      "Anime closest to One Piece\n",
      "Anime closest to Toradora!\n",
      "Anime closest to Howl's Moving Castle\n",
      "Anime closest to Code Geass:Lelouch of the Rebellion R2\n",
      "Anime closest to Time of Eve\n",
      "Anime closest to The Pet Girl of Sakurasou\n",
      "Anime closest to The World God Only Knows II\n"
     ]
    },
    {
     "data": {
      "text/plain": [
       "['Spirited Away',\n",
       " 'No Game, No Life',\n",
       " 'Death Note',\n",
       " 'One Piece',\n",
       " 'Toradora!',\n",
       " \"Howl's Moving Castle\",\n",
       " 'Code Geass:Lelouch of the Rebellion R2',\n",
       " 'Time of Eve',\n",
       " 'The Pet Girl of Sakurasou',\n",
       " 'The World God Only Knows II']"
      ]
     },
     "execution_count": 95,
     "metadata": {},
     "output_type": "execute_result"
    }
   ],
   "source": [
    "hybrid_recommendation(11880)"
   ]
  },
  {
   "cell_type": "code",
   "execution_count": null,
   "id": "6ea9d8a9",
   "metadata": {},
   "outputs": [],
   "source": []
  },
  {
   "cell_type": "code",
   "execution_count": null,
   "id": "0989bb35",
   "metadata": {},
   "outputs": [],
   "source": []
  }
 ],
 "metadata": {
  "kernelspec": {
   "display_name": "project2",
   "language": "python",
   "name": "python3"
  },
  "language_info": {
   "codemirror_mode": {
    "name": "ipython",
    "version": 3
   },
   "file_extension": ".py",
   "mimetype": "text/x-python",
   "name": "python",
   "nbconvert_exporter": "python",
   "pygments_lexer": "ipython3",
   "version": "3.10.11"
  }
 },
 "nbformat": 4,
 "nbformat_minor": 5
}
